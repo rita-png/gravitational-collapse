{
 "cells": [
  {
   "cell_type": "markdown",
   "id": "d88601a8",
   "metadata": {
    "papermill": {
     "duration": 0.010813,
     "end_time": "2023-03-28T18:06:09.878411",
     "exception": false,
     "start_time": "2023-03-28T18:06:09.867598",
     "status": "completed"
    },
    "tags": []
   },
   "source": [
    "# Evolution of Einstein's equations"
   ]
  },
  {
   "cell_type": "markdown",
   "id": "03c607c7",
   "metadata": {
    "papermill": {
     "duration": 0.006777,
     "end_time": "2023-03-28T18:06:09.893152",
     "exception": false,
     "start_time": "2023-03-28T18:06:09.886375",
     "status": "completed"
    },
    "tags": []
   },
   "source": [
    "# Initial data , setting length of the domain and discretization\n"
   ]
  },
  {
   "cell_type": "markdown",
   "id": "43aebde7",
   "metadata": {
    "execution": {
     "iopub.execute_input": "2023-03-28T19:06:10.907000Z",
     "iopub.status.busy": "2023-03-28T19:06:09.907000Z",
     "iopub.status.idle": "2023-03-28T19:06:12.147000Z",
     "shell.execute_reply": "2023-03-28T19:06:12.110000Z"
    },
    "papermill": {
     "duration": 2.251282,
     "end_time": "2023-03-28T18:06:12.151193",
     "exception": false,
     "start_time": "2023-03-28T18:06:09.899911",
     "status": "completed"
    },
    "tags": [
     "injected-parameters"
    ]
   },
   "source": [
    "# Parameters"
   ]
  },
  {
   "cell_type": "code",
   "execution_count": 1,
   "id": "a28c43b6",
   "metadata": {},
   "outputs": [
    {
     "data": {
      "text/plain": [
       "1"
      ]
     },
     "execution_count": 1,
     "metadata": {},
     "output_type": "execute_result"
    }
   ],
   "source": [
    "m=1\n",
    "run = 1"
   ]
  },
  {
   "cell_type": "markdown",
   "id": "b3b8c463",
   "metadata": {},
   "source": [
    "Choose your grid"
   ]
  },
  {
   "cell_type": "code",
   "execution_count": 2,
   "id": "809ea402",
   "metadata": {},
   "outputs": [
    {
     "data": {
      "text/plain": [
       "false"
      ]
     },
     "execution_count": 2,
     "metadata": {},
     "output_type": "execute_result"
    }
   ],
   "source": [
    "global compactified=true\n",
    "global loggrid=false\n",
    "global bisection=false\n",
    "global zeroformat=false\n",
    "global twod=false#true\n",
    "\n",
    "global source=false"
   ]
  },
  {
   "cell_type": "code",
   "execution_count": 3,
   "id": "73b14643",
   "metadata": {},
   "outputs": [
    {
     "data": {
      "text/plain": [
       "compactify (generic function with 1 method)"
      ]
     },
     "execution_count": 3,
     "metadata": {},
     "output_type": "execute_result"
    }
   ],
   "source": [
    "function compactify(r)\n",
    "    x=r/(1+r)\n",
    "    return x\n",
    "end"
   ]
  },
  {
   "cell_type": "code",
   "execution_count": 4,
   "id": "80a113e0",
   "metadata": {},
   "outputs": [],
   "source": [
    "using Quadmath, Printf\n",
    "\n",
    "res=m;\n",
    "N=2.0^m*200.0/2.0\n",
    "\n",
    "if compactified==true\n",
    "    Xf=1.0\n",
    "else\n",
    "    Xf=2.0\n",
    "end\n",
    "\n",
    "dx=Xf/N\n",
    "if loggrid==false\n",
    "    dt=0.5*round(dx,digits=10)\n",
    "else\n",
    "    dt=0.1*round(dx,digits=10)\n",
    "end\n",
    "Nt=N\n",
    "Tf=Nt*dt;"
   ]
  },
  {
   "cell_type": "code",
   "execution_count": 5,
   "id": "4f752d54",
   "metadata": {
    "execution": {
     "iopub.execute_input": "2023-03-28T19:06:12.356000Z",
     "iopub.status.busy": "2023-03-28T19:06:12.356000Z",
     "iopub.status.idle": "2023-03-28T19:06:12.364000Z",
     "shell.execute_reply": "2023-03-28T19:06:12.364000Z"
    },
    "papermill": {
     "duration": 0.020815,
     "end_time": "2023-03-28T18:06:12.368761",
     "exception": false,
     "start_time": "2023-03-28T18:06:12.347946",
     "status": "completed"
    },
    "tags": []
   },
   "outputs": [
    {
     "name": "stdout",
     "output_type": "stream",
     "text": [
      "200.0"
     ]
    }
   ],
   "source": [
    "print(N)"
   ]
  },
  {
   "cell_type": "code",
   "execution_count": 6,
   "id": "78fb78a5",
   "metadata": {
    "execution": {
     "iopub.execute_input": "2023-03-28T19:06:12.419000Z",
     "iopub.status.busy": "2023-03-28T19:06:12.419000Z",
     "iopub.status.idle": "2023-03-28T19:06:13.308000Z",
     "shell.execute_reply": "2023-03-28T19:06:13.308000Z"
    },
    "papermill": {
     "duration": 0.90283,
     "end_time": "2023-03-28T18:06:13.314381",
     "exception": false,
     "start_time": "2023-03-28T18:06:12.411551",
     "status": "completed"
    },
    "tags": []
   },
   "outputs": [
    {
     "data": {
      "text/plain": [
       "\"/home/rita13santos/Desktop/MSc Thesis/Git/TMYangMills/DATA\""
      ]
     },
     "execution_count": 6,
     "metadata": {},
     "output_type": "execute_result"
    }
   ],
   "source": [
    "global dir = \"/home/rita13santos/Desktop/MSc Thesis/Git/TMYangMills/DATA\""
   ]
  },
  {
   "cell_type": "markdown",
   "id": "e2dd4335",
   "metadata": {
    "papermill": {
     "duration": 0.007006,
     "end_time": "2023-03-28T18:06:13.351329",
     "exception": false,
     "start_time": "2023-03-28T18:06:13.344323",
     "status": "completed"
    },
    "tags": []
   },
   "source": [
    "# Grid"
   ]
  },
  {
   "cell_type": "code",
   "execution_count": 7,
   "id": "bc5288f8",
   "metadata": {
    "execution": {
     "iopub.execute_input": "2023-03-28T19:06:13.636000Z",
     "iopub.status.busy": "2023-03-28T19:06:13.636000Z",
     "iopub.status.idle": "2023-03-28T19:06:14.762000Z",
     "shell.execute_reply": "2023-03-28T19:06:14.762000Z"
    },
    "papermill": {
     "duration": 1.137394,
     "end_time": "2023-03-28T18:06:14.765909",
     "exception": false,
     "start_time": "2023-03-28T18:06:13.628515",
     "status": "completed"
    },
    "tags": []
   },
   "outputs": [],
   "source": [
    "using Printf\n",
    "include(\"./TMYangMillsTHREE.jl\");"
   ]
  },
  {
   "cell_type": "code",
   "execution_count": 8,
   "id": "de24fea3",
   "metadata": {
    "execution": {
     "iopub.execute_input": "2023-03-28T19:06:13.366000Z",
     "iopub.status.busy": "2023-03-28T19:06:13.366000Z",
     "iopub.status.idle": "2023-03-28T19:06:13.571000Z",
     "shell.execute_reply": "2023-03-28T19:06:13.571000Z"
    },
    "papermill": {
     "duration": 0.216104,
     "end_time": "2023-03-28T18:06:13.574666",
     "exception": false,
     "start_time": "2023-03-28T18:06:13.358562",
     "status": "completed"
    },
    "tags": []
   },
   "outputs": [
    {
     "name": "stdout",
     "output_type": "stream",
     "text": [
      "step size is  0.005\n",
      "the time step is 0.0025\n"
     ]
    }
   ],
   "source": [
    "ori=0.0#Float128(0.0)#0.0;\n",
    "initX1 = nothing\n",
    "N=int(N)\n",
    "initX1=range(ori, stop=Xf, step=dx);\n",
    "initX = range(round(ori-3.0*dx,digits=10), stop=Xf+3.0*dx, step=dx)\n",
    "\n",
    "L=length(initX);\n",
    "println(\"step size is  \", dx)\n",
    "println(\"the time step is \", dt)\n",
    "\n",
    "if loggrid==true\n",
    "    global originalX=initX\n",
    "    xtilde=gridfunc(initX1)\n",
    "    initX1=xtilde\n",
    "    initX=collect(initX)\n",
    "    initX[4:L-3]=xtilde\n",
    "end;"
   ]
  },
  {
   "cell_type": "markdown",
   "id": "80ab1480",
   "metadata": {
    "papermill": {
     "duration": 0.007525,
     "end_time": "2023-03-28T18:06:14.783937",
     "exception": false,
     "start_time": "2023-03-28T18:06:14.776412",
     "status": "completed"
    },
    "tags": []
   },
   "source": [
    "# Initial data of m β Ψ and Ψ,x"
   ]
  },
  {
   "cell_type": "code",
   "execution_count": 40,
   "id": "d0af654c",
   "metadata": {
    "execution": {
     "iopub.execute_input": "2023-03-28T19:06:14.799000Z",
     "iopub.status.busy": "2023-03-28T19:06:14.799000Z",
     "iopub.status.idle": "2023-03-28T19:06:22.269000Z",
     "shell.execute_reply": "2023-03-28T19:06:22.269000Z"
    },
    "papermill": {
     "duration": 7.48258,
     "end_time": "2023-03-28T18:06:22.273970",
     "exception": false,
     "start_time": "2023-03-28T18:06:14.791390",
     "status": "completed"
    },
    "tags": []
   },
   "outputs": [],
   "source": [
    "using Dierckx\n",
    "\n",
    "\n",
    "####\n",
    "\n",
    "initm=zeros(L)\n",
    "initbeta=zeros(L)\n",
    "initxi=zeros(L)\n",
    "initderxi=zeros(L)\n",
    "\n",
    "state_array=[initm initbeta initxi initderxi];\n",
    "\n",
    "#WBAR,R\n",
    "#0.088125<A*<0.08875\n",
    "A=0.0886#0.08865958683658391#0.0884375\n",
    "r0=0.3\n",
    "sigma=0.1\n",
    "\n",
    "initderxi[4:L-3] = init_derpsi(initX1,r0,sigma,A)\n",
    "\n",
    "state_array[:,4] = initderxi\n",
    "state_array=ghost(state_array)\n",
    "\n",
    "####\n",
    "#XI FROM XI,X\n",
    "\n",
    "derxi_func = Spline1D(initX[4:L-3], state_array[4:L-3,4],  k=4);\n",
    "\n",
    "funcs=[derxi_func];"
   ]
  },
  {
   "cell_type": "markdown",
   "id": "00a33f7a",
   "metadata": {},
   "source": [
    "(0.088125+0.08875)/2\n",
    "there were runs with 0.6 as critical stop that were marked as critical but didnt crash"
   ]
  },
  {
   "cell_type": "code",
   "execution_count": 41,
   "id": "78cfbd6e",
   "metadata": {},
   "outputs": [
    {
     "data": {
      "text/plain": [
       "201×3 Matrix{Float64}:\n",
       " 0.0          0.0          0.0\n",
       " 3.13486e-11  4.34549e-9   7.40845e-8\n",
       " 1.09653e-10  9.5867e-9    2.00409e-7\n",
       " 2.83945e-10  1.77428e-8   4.05677e-7\n",
       " 6.65978e-10  3.19341e-8   7.28262e-7\n",
       " 1.48832e-9   5.74981e-8   1.22268e-6\n",
       " 3.22559e-9   1.04041e-7   1.96562e-6\n",
       " 6.82843e-9   1.88844e-7   3.06402e-6\n",
       " 1.41675e-8   3.42743e-7   4.66564e-6\n",
       " 2.88621e-8   6.20232e-7   6.97292e-6\n",
       " 5.78e-8      1.11661e-6   1.02609e-5\n",
       " 1.13881e-7   1.99671e-6   1.49001e-5\n",
       " 2.20885e-7   3.54243e-6   2.13856e-5\n",
       " ⋮                        \n",
       " 0.105351     0.41337     -9.13263e-12\n",
       " 0.105351     0.41337     -9.13263e-12\n",
       " 0.105351     0.41337     -9.13263e-12\n",
       " 0.105351     0.41337     -9.13263e-12\n",
       " 0.105351     0.41337     -9.13263e-12\n",
       " 0.105351     0.41337     -9.13263e-12\n",
       " 0.105351     0.41337     -9.13263e-12\n",
       " 0.105351     0.41337     -9.13263e-12\n",
       " 0.105351     0.41337     -9.13263e-12\n",
       " 0.105351     0.41337     -9.13263e-12\n",
       " 0.105351     0.41337     -9.13263e-12\n",
       " 0.105351     0.41337     -9.13263e-12"
      ]
     },
     "execution_count": 41,
     "metadata": {},
     "output_type": "execute_result"
    }
   ],
   "source": [
    "y0=[0.0 0.0 0.0]\n",
    "\n",
    "if twod==true\n",
    "        state_array[4:L-3,1:3] = twod_n_rk4wrapper(RHS,y0,initX[4:L-3],0,funcs,state_array[:,:]);\n",
    "    else\n",
    "        state_array[4:L-3,1:3] = n_rk4wrapper(RHS,y0,initX[4:L-3],0,funcs,state_array[:,:]);\n",
    "end\n",
    "\n",
    "#state_array = ghost(state_array);"
   ]
  },
  {
   "cell_type": "code",
   "execution_count": 42,
   "id": "14e14e45",
   "metadata": {},
   "outputs": [
    {
     "data": {
      "image/svg+xml": [
       "<?xml version=\"1.0\" encoding=\"utf-8\"?>\n",
       "<svg xmlns=\"http://www.w3.org/2000/svg\" xmlns:xlink=\"http://www.w3.org/1999/xlink\" width=\"600\" height=\"400\" viewBox=\"0 0 2400 1600\">\n",
       "<defs>\n",
       "  <clipPath id=\"clip750\">\n",
       "    <rect x=\"0\" y=\"0\" width=\"2400\" height=\"1600\"/>\n",
       "  </clipPath>\n",
       "</defs>\n",
       "<path clip-path=\"url(#clip750)\" d=\"M0 1600 L2400 1600 L2400 0 L0 0  Z\" fill=\"#ffffff\" fill-rule=\"evenodd\" fill-opacity=\"1\"/>\n",
       "<defs>\n",
       "  <clipPath id=\"clip751\">\n",
       "    <rect x=\"480\" y=\"0\" width=\"1681\" height=\"1600\"/>\n",
       "  </clipPath>\n",
       "</defs>\n",
       "<path clip-path=\"url(#clip750)\" d=\"M192.709 1423.18 L2352.76 1423.18 L2352.76 123.472 L192.709 123.472  Z\" fill=\"#ffffff\" fill-rule=\"evenodd\" fill-opacity=\"1\"/>\n",
       "<defs>\n",
       "  <clipPath id=\"clip752\">\n",
       "    <rect x=\"192\" y=\"123\" width=\"2161\" height=\"1301\"/>\n",
       "  </clipPath>\n",
       "</defs>\n",
       "<polyline clip-path=\"url(#clip752)\" style=\"stroke:#000000; stroke-linecap:round; stroke-linejoin:round; stroke-width:2; stroke-opacity:0.1; fill:none\" points=\"192.709,1423.18 192.709,123.472 \"/>\n",
       "<polyline clip-path=\"url(#clip752)\" style=\"stroke:#000000; stroke-linecap:round; stroke-linejoin:round; stroke-width:2; stroke-opacity:0.1; fill:none\" points=\"624.719,1423.18 624.719,123.472 \"/>\n",
       "<polyline clip-path=\"url(#clip752)\" style=\"stroke:#000000; stroke-linecap:round; stroke-linejoin:round; stroke-width:2; stroke-opacity:0.1; fill:none\" points=\"1056.73,1423.18 1056.73,123.472 \"/>\n",
       "<polyline clip-path=\"url(#clip752)\" style=\"stroke:#000000; stroke-linecap:round; stroke-linejoin:round; stroke-width:2; stroke-opacity:0.1; fill:none\" points=\"1488.74,1423.18 1488.74,123.472 \"/>\n",
       "<polyline clip-path=\"url(#clip752)\" style=\"stroke:#000000; stroke-linecap:round; stroke-linejoin:round; stroke-width:2; stroke-opacity:0.1; fill:none\" points=\"1920.75,1423.18 1920.75,123.472 \"/>\n",
       "<polyline clip-path=\"url(#clip752)\" style=\"stroke:#000000; stroke-linecap:round; stroke-linejoin:round; stroke-width:2; stroke-opacity:0.1; fill:none\" points=\"2352.76,1423.18 2352.76,123.472 \"/>\n",
       "<polyline clip-path=\"url(#clip750)\" style=\"stroke:#000000; stroke-linecap:round; stroke-linejoin:round; stroke-width:4; stroke-opacity:1; fill:none\" points=\"192.709,1423.18 2352.76,1423.18 \"/>\n",
       "<polyline clip-path=\"url(#clip750)\" style=\"stroke:#000000; stroke-linecap:round; stroke-linejoin:round; stroke-width:4; stroke-opacity:1; fill:none\" points=\"192.709,1423.18 192.709,1404.28 \"/>\n",
       "<polyline clip-path=\"url(#clip750)\" style=\"stroke:#000000; stroke-linecap:round; stroke-linejoin:round; stroke-width:4; stroke-opacity:1; fill:none\" points=\"624.719,1423.18 624.719,1404.28 \"/>\n",
       "<polyline clip-path=\"url(#clip750)\" style=\"stroke:#000000; stroke-linecap:round; stroke-linejoin:round; stroke-width:4; stroke-opacity:1; fill:none\" points=\"1056.73,1423.18 1056.73,1404.28 \"/>\n",
       "<polyline clip-path=\"url(#clip750)\" style=\"stroke:#000000; stroke-linecap:round; stroke-linejoin:round; stroke-width:4; stroke-opacity:1; fill:none\" points=\"1488.74,1423.18 1488.74,1404.28 \"/>\n",
       "<polyline clip-path=\"url(#clip750)\" style=\"stroke:#000000; stroke-linecap:round; stroke-linejoin:round; stroke-width:4; stroke-opacity:1; fill:none\" points=\"1920.75,1423.18 1920.75,1404.28 \"/>\n",
       "<polyline clip-path=\"url(#clip750)\" style=\"stroke:#000000; stroke-linecap:round; stroke-linejoin:round; stroke-width:4; stroke-opacity:1; fill:none\" points=\"2352.76,1423.18 2352.76,1404.28 \"/>\n",
       "<path clip-path=\"url(#clip750)\" d=\"M170.094 1454.1 Q166.482 1454.1 164.654 1457.66 Q162.848 1461.2 162.848 1468.33 Q162.848 1475.44 164.654 1479.01 Q166.482 1482.55 170.094 1482.55 Q173.728 1482.55 175.533 1479.01 Q177.362 1475.44 177.362 1468.33 Q177.362 1461.2 175.533 1457.66 Q173.728 1454.1 170.094 1454.1 M170.094 1450.39 Q175.904 1450.39 178.959 1455 Q182.038 1459.58 182.038 1468.33 Q182.038 1477.06 178.959 1481.67 Q175.904 1486.25 170.094 1486.25 Q164.283 1486.25 161.205 1481.67 Q158.149 1477.06 158.149 1468.33 Q158.149 1459.58 161.205 1455 Q164.283 1450.39 170.094 1450.39 Z\" fill=\"#000000\" fill-rule=\"evenodd\" fill-opacity=\"1\" /><path clip-path=\"url(#clip750)\" d=\"M190.255 1479.7 L195.14 1479.7 L195.14 1485.58 L190.255 1485.58 L190.255 1479.7 Z\" fill=\"#000000\" fill-rule=\"evenodd\" fill-opacity=\"1\" /><path clip-path=\"url(#clip750)\" d=\"M215.325 1454.1 Q211.714 1454.1 209.885 1457.66 Q208.079 1461.2 208.079 1468.33 Q208.079 1475.44 209.885 1479.01 Q211.714 1482.55 215.325 1482.55 Q218.959 1482.55 220.765 1479.01 Q222.593 1475.44 222.593 1468.33 Q222.593 1461.2 220.765 1457.66 Q218.959 1454.1 215.325 1454.1 M215.325 1450.39 Q221.135 1450.39 224.19 1455 Q227.269 1459.58 227.269 1468.33 Q227.269 1477.06 224.19 1481.67 Q221.135 1486.25 215.325 1486.25 Q209.515 1486.25 206.436 1481.67 Q203.38 1477.06 203.38 1468.33 Q203.38 1459.58 206.436 1455 Q209.515 1450.39 215.325 1450.39 Z\" fill=\"#000000\" fill-rule=\"evenodd\" fill-opacity=\"1\" /><path clip-path=\"url(#clip750)\" d=\"M602.901 1454.1 Q599.29 1454.1 597.462 1457.66 Q595.656 1461.2 595.656 1468.33 Q595.656 1475.44 597.462 1479.01 Q599.29 1482.55 602.901 1482.55 Q606.536 1482.55 608.341 1479.01 Q610.17 1475.44 610.17 1468.33 Q610.17 1461.2 608.341 1457.66 Q606.536 1454.1 602.901 1454.1 M602.901 1450.39 Q608.712 1450.39 611.767 1455 Q614.846 1459.58 614.846 1468.33 Q614.846 1477.06 611.767 1481.67 Q608.712 1486.25 602.901 1486.25 Q597.091 1486.25 594.013 1481.67 Q590.957 1477.06 590.957 1468.33 Q590.957 1459.58 594.013 1455 Q597.091 1450.39 602.901 1450.39 Z\" fill=\"#000000\" fill-rule=\"evenodd\" fill-opacity=\"1\" /><path clip-path=\"url(#clip750)\" d=\"M623.063 1479.7 L627.948 1479.7 L627.948 1485.58 L623.063 1485.58 L623.063 1479.7 Z\" fill=\"#000000\" fill-rule=\"evenodd\" fill-opacity=\"1\" /><path clip-path=\"url(#clip750)\" d=\"M642.161 1481.64 L658.48 1481.64 L658.48 1485.58 L636.536 1485.58 L636.536 1481.64 Q639.198 1478.89 643.781 1474.26 Q648.387 1469.61 649.568 1468.27 Q651.813 1465.74 652.693 1464.01 Q653.596 1462.25 653.596 1460.56 Q653.596 1457.8 651.651 1456.07 Q649.73 1454.33 646.628 1454.33 Q644.429 1454.33 641.975 1455.09 Q639.545 1455.86 636.767 1457.41 L636.767 1452.69 Q639.591 1451.55 642.045 1450.97 Q644.498 1450.39 646.536 1450.39 Q651.906 1450.39 655.1 1453.08 Q658.295 1455.77 658.295 1460.26 Q658.295 1462.39 657.485 1464.31 Q656.697 1466.2 654.591 1468.8 Q654.012 1469.47 650.91 1472.69 Q647.809 1475.88 642.161 1481.64 Z\" fill=\"#000000\" fill-rule=\"evenodd\" fill-opacity=\"1\" /><path clip-path=\"url(#clip750)\" d=\"M1033.87 1454.1 Q1030.26 1454.1 1028.43 1457.66 Q1026.62 1461.2 1026.62 1468.33 Q1026.62 1475.44 1028.43 1479.01 Q1030.26 1482.55 1033.87 1482.55 Q1037.5 1482.55 1039.31 1479.01 Q1041.14 1475.44 1041.14 1468.33 Q1041.14 1461.2 1039.31 1457.66 Q1037.5 1454.1 1033.87 1454.1 M1033.87 1450.39 Q1039.68 1450.39 1042.73 1455 Q1045.81 1459.58 1045.81 1468.33 Q1045.81 1477.06 1042.73 1481.67 Q1039.68 1486.25 1033.87 1486.25 Q1028.06 1486.25 1024.98 1481.67 Q1021.92 1477.06 1021.92 1468.33 Q1021.92 1459.58 1024.98 1455 Q1028.06 1450.39 1033.87 1450.39 Z\" fill=\"#000000\" fill-rule=\"evenodd\" fill-opacity=\"1\" /><path clip-path=\"url(#clip750)\" d=\"M1054.03 1479.7 L1058.92 1479.7 L1058.92 1485.58 L1054.03 1485.58 L1054.03 1479.7 Z\" fill=\"#000000\" fill-rule=\"evenodd\" fill-opacity=\"1\" /><path clip-path=\"url(#clip750)\" d=\"M1081.95 1455.09 L1070.14 1473.54 L1081.95 1473.54 L1081.95 1455.09 M1080.72 1451.02 L1086.6 1451.02 L1086.6 1473.54 L1091.53 1473.54 L1091.53 1477.43 L1086.6 1477.43 L1086.6 1485.58 L1081.95 1485.58 L1081.95 1477.43 L1066.35 1477.43 L1066.35 1472.92 L1080.72 1451.02 Z\" fill=\"#000000\" fill-rule=\"evenodd\" fill-opacity=\"1\" /><path clip-path=\"url(#clip750)\" d=\"M1466.04 1454.1 Q1462.43 1454.1 1460.6 1457.66 Q1458.8 1461.2 1458.8 1468.33 Q1458.8 1475.44 1460.6 1479.01 Q1462.43 1482.55 1466.04 1482.55 Q1469.67 1482.55 1471.48 1479.01 Q1473.31 1475.44 1473.31 1468.33 Q1473.31 1461.2 1471.48 1457.66 Q1469.67 1454.1 1466.04 1454.1 M1466.04 1450.39 Q1471.85 1450.39 1474.91 1455 Q1477.98 1459.58 1477.98 1468.33 Q1477.98 1477.06 1474.91 1481.67 Q1471.85 1486.25 1466.04 1486.25 Q1460.23 1486.25 1457.15 1481.67 Q1454.1 1477.06 1454.1 1468.33 Q1454.1 1459.58 1457.15 1455 Q1460.23 1450.39 1466.04 1450.39 Z\" fill=\"#000000\" fill-rule=\"evenodd\" fill-opacity=\"1\" /><path clip-path=\"url(#clip750)\" d=\"M1486.2 1479.7 L1491.09 1479.7 L1491.09 1485.58 L1486.2 1485.58 L1486.2 1479.7 Z\" fill=\"#000000\" fill-rule=\"evenodd\" fill-opacity=\"1\" /><path clip-path=\"url(#clip750)\" d=\"M1511.85 1466.44 Q1508.7 1466.44 1506.85 1468.59 Q1505.02 1470.74 1505.02 1474.49 Q1505.02 1478.22 1506.85 1480.39 Q1508.7 1482.55 1511.85 1482.55 Q1515 1482.55 1516.83 1480.39 Q1518.68 1478.22 1518.68 1474.49 Q1518.68 1470.74 1516.83 1468.59 Q1515 1466.44 1511.85 1466.44 M1521.13 1451.78 L1521.13 1456.04 Q1519.37 1455.21 1517.57 1454.77 Q1515.79 1454.33 1514.03 1454.33 Q1509.4 1454.33 1506.94 1457.45 Q1504.51 1460.58 1504.17 1466.9 Q1505.53 1464.89 1507.59 1463.82 Q1509.65 1462.73 1512.13 1462.73 Q1517.34 1462.73 1520.35 1465.9 Q1523.38 1469.05 1523.38 1474.49 Q1523.38 1479.82 1520.23 1483.03 Q1517.08 1486.25 1511.85 1486.25 Q1505.86 1486.25 1502.68 1481.67 Q1499.51 1477.06 1499.51 1468.33 Q1499.51 1460.14 1503.4 1455.28 Q1507.29 1450.39 1513.84 1450.39 Q1515.6 1450.39 1517.38 1450.74 Q1519.19 1451.09 1521.13 1451.78 Z\" fill=\"#000000\" fill-rule=\"evenodd\" fill-opacity=\"1\" /><path clip-path=\"url(#clip750)\" d=\"M1898.18 1454.1 Q1894.57 1454.1 1892.74 1457.66 Q1890.93 1461.2 1890.93 1468.33 Q1890.93 1475.44 1892.74 1479.01 Q1894.57 1482.55 1898.18 1482.55 Q1901.81 1482.55 1903.62 1479.01 Q1905.45 1475.44 1905.45 1468.33 Q1905.45 1461.2 1903.62 1457.66 Q1901.81 1454.1 1898.18 1454.1 M1898.18 1450.39 Q1903.99 1450.39 1907.04 1455 Q1910.12 1459.58 1910.12 1468.33 Q1910.12 1477.06 1907.04 1481.67 Q1903.99 1486.25 1898.18 1486.25 Q1892.37 1486.25 1889.29 1481.67 Q1886.23 1477.06 1886.23 1468.33 Q1886.23 1459.58 1889.29 1455 Q1892.37 1450.39 1898.18 1450.39 Z\" fill=\"#000000\" fill-rule=\"evenodd\" fill-opacity=\"1\" /><path clip-path=\"url(#clip750)\" d=\"M1918.34 1479.7 L1923.22 1479.7 L1923.22 1485.58 L1918.34 1485.58 L1918.34 1479.7 Z\" fill=\"#000000\" fill-rule=\"evenodd\" fill-opacity=\"1\" /><path clip-path=\"url(#clip750)\" d=\"M1943.41 1469.17 Q1940.08 1469.17 1938.15 1470.95 Q1936.26 1472.73 1936.26 1475.86 Q1936.26 1478.98 1938.15 1480.77 Q1940.08 1482.55 1943.41 1482.55 Q1946.74 1482.55 1948.66 1480.77 Q1950.58 1478.96 1950.58 1475.86 Q1950.58 1472.73 1948.66 1470.95 Q1946.76 1469.17 1943.41 1469.17 M1938.73 1467.18 Q1935.72 1466.44 1934.03 1464.38 Q1932.37 1462.32 1932.37 1459.35 Q1932.37 1455.21 1935.31 1452.8 Q1938.27 1450.39 1943.41 1450.39 Q1948.57 1450.39 1951.51 1452.8 Q1954.45 1455.21 1954.45 1459.35 Q1954.45 1462.32 1952.76 1464.38 Q1951.09 1466.44 1948.11 1467.18 Q1951.49 1467.96 1953.36 1470.26 Q1955.26 1472.55 1955.26 1475.86 Q1955.26 1480.88 1952.18 1483.57 Q1949.13 1486.25 1943.41 1486.25 Q1937.69 1486.25 1934.61 1483.57 Q1931.56 1480.88 1931.56 1475.86 Q1931.56 1472.55 1933.45 1470.26 Q1935.35 1467.96 1938.73 1467.18 M1937.02 1459.79 Q1937.02 1462.48 1938.69 1463.98 Q1940.38 1465.49 1943.41 1465.49 Q1946.42 1465.49 1948.11 1463.98 Q1949.82 1462.48 1949.82 1459.79 Q1949.82 1457.11 1948.11 1455.6 Q1946.42 1454.1 1943.41 1454.1 Q1940.38 1454.1 1938.69 1455.6 Q1937.02 1457.11 1937.02 1459.79 Z\" fill=\"#000000\" fill-rule=\"evenodd\" fill-opacity=\"1\" /><path clip-path=\"url(#clip750)\" d=\"M2319.91 1481.64 L2327.55 1481.64 L2327.55 1455.28 L2319.24 1456.95 L2319.24 1452.69 L2327.5 1451.02 L2332.18 1451.02 L2332.18 1481.64 L2339.82 1481.64 L2339.82 1485.58 L2319.91 1485.58 L2319.91 1481.64 Z\" fill=\"#000000\" fill-rule=\"evenodd\" fill-opacity=\"1\" /><path clip-path=\"url(#clip750)\" d=\"M2349.26 1479.7 L2354.14 1479.7 L2354.14 1485.58 L2349.26 1485.58 L2349.26 1479.7 Z\" fill=\"#000000\" fill-rule=\"evenodd\" fill-opacity=\"1\" /><path clip-path=\"url(#clip750)\" d=\"M2374.33 1454.1 Q2370.72 1454.1 2368.89 1457.66 Q2367.08 1461.2 2367.08 1468.33 Q2367.08 1475.44 2368.89 1479.01 Q2370.72 1482.55 2374.33 1482.55 Q2377.96 1482.55 2379.77 1479.01 Q2381.6 1475.44 2381.6 1468.33 Q2381.6 1461.2 2379.77 1457.66 Q2377.96 1454.1 2374.33 1454.1 M2374.33 1450.39 Q2380.14 1450.39 2383.2 1455 Q2386.27 1459.58 2386.27 1468.33 Q2386.27 1477.06 2383.2 1481.67 Q2380.14 1486.25 2374.33 1486.25 Q2368.52 1486.25 2365.44 1481.67 Q2362.39 1477.06 2362.39 1468.33 Q2362.39 1459.58 2365.44 1455 Q2368.52 1450.39 2374.33 1450.39 Z\" fill=\"#000000\" fill-rule=\"evenodd\" fill-opacity=\"1\" /><path clip-path=\"url(#clip750)\" d=\"M1283.17 1537.87 Q1282.19 1537.3 1281.01 1537.04 Q1279.86 1536.76 1278.46 1536.76 Q1273.5 1536.76 1270.82 1540 Q1268.18 1543.22 1268.18 1549.27 L1268.18 1568.04 L1262.29 1568.04 L1262.29 1532.4 L1268.18 1532.4 L1268.18 1537.93 Q1270.03 1534.69 1272.99 1533.13 Q1275.95 1531.54 1280.18 1531.54 Q1280.79 1531.54 1281.52 1531.63 Q1282.25 1531.7 1283.14 1531.85 L1283.17 1537.87 Z\" fill=\"#000000\" fill-rule=\"evenodd\" fill-opacity=\"1\" /><polyline clip-path=\"url(#clip752)\" style=\"stroke:#000000; stroke-linecap:round; stroke-linejoin:round; stroke-width:2; stroke-opacity:0.1; fill:none\" points=\"192.709,1315.29 2352.76,1315.29 \"/>\n",
       "<polyline clip-path=\"url(#clip752)\" style=\"stroke:#000000; stroke-linecap:round; stroke-linejoin:round; stroke-width:2; stroke-opacity:0.1; fill:none\" points=\"192.709,1126.98 2352.76,1126.98 \"/>\n",
       "<polyline clip-path=\"url(#clip752)\" style=\"stroke:#000000; stroke-linecap:round; stroke-linejoin:round; stroke-width:2; stroke-opacity:0.1; fill:none\" points=\"192.709,938.671 2352.76,938.671 \"/>\n",
       "<polyline clip-path=\"url(#clip752)\" style=\"stroke:#000000; stroke-linecap:round; stroke-linejoin:round; stroke-width:2; stroke-opacity:0.1; fill:none\" points=\"192.709,750.362 2352.76,750.362 \"/>\n",
       "<polyline clip-path=\"url(#clip752)\" style=\"stroke:#000000; stroke-linecap:round; stroke-linejoin:round; stroke-width:2; stroke-opacity:0.1; fill:none\" points=\"192.709,562.052 2352.76,562.052 \"/>\n",
       "<polyline clip-path=\"url(#clip752)\" style=\"stroke:#000000; stroke-linecap:round; stroke-linejoin:round; stroke-width:2; stroke-opacity:0.1; fill:none\" points=\"192.709,373.742 2352.76,373.742 \"/>\n",
       "<polyline clip-path=\"url(#clip752)\" style=\"stroke:#000000; stroke-linecap:round; stroke-linejoin:round; stroke-width:2; stroke-opacity:0.1; fill:none\" points=\"192.709,185.433 2352.76,185.433 \"/>\n",
       "<polyline clip-path=\"url(#clip750)\" style=\"stroke:#000000; stroke-linecap:round; stroke-linejoin:round; stroke-width:4; stroke-opacity:1; fill:none\" points=\"192.709,1423.18 192.709,123.472 \"/>\n",
       "<polyline clip-path=\"url(#clip750)\" style=\"stroke:#000000; stroke-linecap:round; stroke-linejoin:round; stroke-width:4; stroke-opacity:1; fill:none\" points=\"192.709,1315.29 211.607,1315.29 \"/>\n",
       "<polyline clip-path=\"url(#clip750)\" style=\"stroke:#000000; stroke-linecap:round; stroke-linejoin:round; stroke-width:4; stroke-opacity:1; fill:none\" points=\"192.709,1126.98 211.607,1126.98 \"/>\n",
       "<polyline clip-path=\"url(#clip750)\" style=\"stroke:#000000; stroke-linecap:round; stroke-linejoin:round; stroke-width:4; stroke-opacity:1; fill:none\" points=\"192.709,938.671 211.607,938.671 \"/>\n",
       "<polyline clip-path=\"url(#clip750)\" style=\"stroke:#000000; stroke-linecap:round; stroke-linejoin:round; stroke-width:4; stroke-opacity:1; fill:none\" points=\"192.709,750.362 211.607,750.362 \"/>\n",
       "<polyline clip-path=\"url(#clip750)\" style=\"stroke:#000000; stroke-linecap:round; stroke-linejoin:round; stroke-width:4; stroke-opacity:1; fill:none\" points=\"192.709,562.052 211.607,562.052 \"/>\n",
       "<polyline clip-path=\"url(#clip750)\" style=\"stroke:#000000; stroke-linecap:round; stroke-linejoin:round; stroke-width:4; stroke-opacity:1; fill:none\" points=\"192.709,373.742 211.607,373.742 \"/>\n",
       "<polyline clip-path=\"url(#clip750)\" style=\"stroke:#000000; stroke-linecap:round; stroke-linejoin:round; stroke-width:4; stroke-opacity:1; fill:none\" points=\"192.709,185.433 211.607,185.433 \"/>\n",
       "<path clip-path=\"url(#clip750)\" d=\"M51.3625 1315.74 L81.0383 1315.74 L81.0383 1319.68 L51.3625 1319.68 L51.3625 1315.74 Z\" fill=\"#000000\" fill-rule=\"evenodd\" fill-opacity=\"1\" /><path clip-path=\"url(#clip750)\" d=\"M101.131 1301.09 Q97.5197 1301.09 95.691 1304.65 Q93.8854 1308.2 93.8854 1315.33 Q93.8854 1322.43 95.691 1326 Q97.5197 1329.54 101.131 1329.54 Q104.765 1329.54 106.571 1326 Q108.399 1322.43 108.399 1315.33 Q108.399 1308.2 106.571 1304.65 Q104.765 1301.09 101.131 1301.09 M101.131 1297.39 Q106.941 1297.39 109.996 1301.99 Q113.075 1306.58 113.075 1315.33 Q113.075 1324.05 109.996 1328.66 Q106.941 1333.24 101.131 1333.24 Q95.3206 1333.24 92.2419 1328.66 Q89.1864 1324.05 89.1864 1315.33 Q89.1864 1306.58 92.2419 1301.99 Q95.3206 1297.39 101.131 1297.39 Z\" fill=\"#000000\" fill-rule=\"evenodd\" fill-opacity=\"1\" /><path clip-path=\"url(#clip750)\" d=\"M121.293 1326.69 L126.177 1326.69 L126.177 1332.57 L121.293 1332.57 L121.293 1326.69 Z\" fill=\"#000000\" fill-rule=\"evenodd\" fill-opacity=\"1\" /><path clip-path=\"url(#clip750)\" d=\"M140.39 1328.64 L156.709 1328.64 L156.709 1332.57 L134.765 1332.57 L134.765 1328.64 Q137.427 1325.88 142.01 1321.25 Q146.617 1316.6 147.797 1315.26 Q150.043 1312.73 150.922 1311 Q151.825 1309.24 151.825 1307.55 Q151.825 1304.79 149.88 1303.06 Q147.959 1301.32 144.857 1301.32 Q142.658 1301.32 140.205 1302.08 Q137.774 1302.85 134.996 1304.4 L134.996 1299.68 Q137.82 1298.54 140.274 1297.96 Q142.728 1297.39 144.765 1297.39 Q150.135 1297.39 153.33 1300.07 Q156.524 1302.76 156.524 1307.25 Q156.524 1309.38 155.714 1311.3 Q154.927 1313.2 152.82 1315.79 Q152.242 1316.46 149.14 1319.68 Q146.038 1322.87 140.39 1328.64 Z\" fill=\"#000000\" fill-rule=\"evenodd\" fill-opacity=\"1\" /><path clip-path=\"url(#clip750)\" d=\"M50.9921 1127.43 L80.6679 1127.43 L80.6679 1131.37 L50.9921 1131.37 L50.9921 1127.43 Z\" fill=\"#000000\" fill-rule=\"evenodd\" fill-opacity=\"1\" /><path clip-path=\"url(#clip750)\" d=\"M100.76 1112.78 Q97.1493 1112.78 95.3206 1116.34 Q93.515 1119.89 93.515 1127.02 Q93.515 1134.12 95.3206 1137.69 Q97.1493 1141.23 100.76 1141.23 Q104.395 1141.23 106.2 1137.69 Q108.029 1134.12 108.029 1127.02 Q108.029 1119.89 106.2 1116.34 Q104.395 1112.78 100.76 1112.78 M100.76 1109.08 Q106.571 1109.08 109.626 1113.68 Q112.705 1118.27 112.705 1127.02 Q112.705 1135.74 109.626 1140.35 Q106.571 1144.93 100.76 1144.93 Q94.9502 1144.93 91.8715 1140.35 Q88.816 1135.74 88.816 1127.02 Q88.816 1118.27 91.8715 1113.68 Q94.9502 1109.08 100.76 1109.08 Z\" fill=\"#000000\" fill-rule=\"evenodd\" fill-opacity=\"1\" /><path clip-path=\"url(#clip750)\" d=\"M120.922 1138.38 L125.807 1138.38 L125.807 1144.26 L120.922 1144.26 L120.922 1138.38 Z\" fill=\"#000000\" fill-rule=\"evenodd\" fill-opacity=\"1\" /><path clip-path=\"url(#clip750)\" d=\"M136.802 1140.33 L144.441 1140.33 L144.441 1113.96 L136.131 1115.63 L136.131 1111.37 L144.394 1109.7 L149.07 1109.7 L149.07 1140.33 L156.709 1140.33 L156.709 1144.26 L136.802 1144.26 L136.802 1140.33 Z\" fill=\"#000000\" fill-rule=\"evenodd\" fill-opacity=\"1\" /><path clip-path=\"url(#clip750)\" d=\"M99.5335 924.47 Q95.9224 924.47 94.0937 928.035 Q92.2882 931.577 92.2882 938.706 Q92.2882 945.813 94.0937 949.377 Q95.9224 952.919 99.5335 952.919 Q103.168 952.919 104.973 949.377 Q106.802 945.813 106.802 938.706 Q106.802 931.577 104.973 928.035 Q103.168 924.47 99.5335 924.47 M99.5335 920.766 Q105.344 920.766 108.399 925.373 Q111.478 929.956 111.478 938.706 Q111.478 947.433 108.399 952.039 Q105.344 956.623 99.5335 956.623 Q93.7234 956.623 90.6447 952.039 Q87.5892 947.433 87.5892 938.706 Q87.5892 929.956 90.6447 925.373 Q93.7234 920.766 99.5335 920.766 Z\" fill=\"#000000\" fill-rule=\"evenodd\" fill-opacity=\"1\" /><path clip-path=\"url(#clip750)\" d=\"M119.695 950.072 L124.58 950.072 L124.58 955.951 L119.695 955.951 L119.695 950.072 Z\" fill=\"#000000\" fill-rule=\"evenodd\" fill-opacity=\"1\" /><path clip-path=\"url(#clip750)\" d=\"M144.765 924.47 Q141.154 924.47 139.325 928.035 Q137.519 931.577 137.519 938.706 Q137.519 945.813 139.325 949.377 Q141.154 952.919 144.765 952.919 Q148.399 952.919 150.205 949.377 Q152.033 945.813 152.033 938.706 Q152.033 931.577 150.205 928.035 Q148.399 924.47 144.765 924.47 M144.765 920.766 Q150.575 920.766 153.63 925.373 Q156.709 929.956 156.709 938.706 Q156.709 947.433 153.63 952.039 Q150.575 956.623 144.765 956.623 Q138.955 956.623 135.876 952.039 Q132.82 947.433 132.82 938.706 Q132.82 929.956 135.876 925.373 Q138.955 920.766 144.765 920.766 Z\" fill=\"#000000\" fill-rule=\"evenodd\" fill-opacity=\"1\" /><path clip-path=\"url(#clip750)\" d=\"M100.76 736.16 Q97.1493 736.16 95.3206 739.725 Q93.515 743.267 93.515 750.396 Q93.515 757.503 95.3206 761.068 Q97.1493 764.609 100.76 764.609 Q104.395 764.609 106.2 761.068 Q108.029 757.503 108.029 750.396 Q108.029 743.267 106.2 739.725 Q104.395 736.16 100.76 736.16 M100.76 732.457 Q106.571 732.457 109.626 737.063 Q112.705 741.646 112.705 750.396 Q112.705 759.123 109.626 763.73 Q106.571 768.313 100.76 768.313 Q94.9502 768.313 91.8715 763.73 Q88.816 759.123 88.816 750.396 Q88.816 741.646 91.8715 737.063 Q94.9502 732.457 100.76 732.457 Z\" fill=\"#000000\" fill-rule=\"evenodd\" fill-opacity=\"1\" /><path clip-path=\"url(#clip750)\" d=\"M120.922 761.762 L125.807 761.762 L125.807 767.642 L120.922 767.642 L120.922 761.762 Z\" fill=\"#000000\" fill-rule=\"evenodd\" fill-opacity=\"1\" /><path clip-path=\"url(#clip750)\" d=\"M136.802 763.707 L144.441 763.707 L144.441 737.341 L136.131 739.008 L136.131 734.748 L144.394 733.082 L149.07 733.082 L149.07 763.707 L156.709 763.707 L156.709 767.642 L136.802 767.642 L136.802 763.707 Z\" fill=\"#000000\" fill-rule=\"evenodd\" fill-opacity=\"1\" /><path clip-path=\"url(#clip750)\" d=\"M101.131 547.851 Q97.5197 547.851 95.691 551.416 Q93.8854 554.957 93.8854 562.087 Q93.8854 569.193 95.691 572.758 Q97.5197 576.3 101.131 576.3 Q104.765 576.3 106.571 572.758 Q108.399 569.193 108.399 562.087 Q108.399 554.957 106.571 551.416 Q104.765 547.851 101.131 547.851 M101.131 544.147 Q106.941 544.147 109.996 548.753 Q113.075 553.337 113.075 562.087 Q113.075 570.814 109.996 575.42 Q106.941 580.003 101.131 580.003 Q95.3206 580.003 92.2419 575.42 Q89.1864 570.814 89.1864 562.087 Q89.1864 553.337 92.2419 548.753 Q95.3206 544.147 101.131 544.147 Z\" fill=\"#000000\" fill-rule=\"evenodd\" fill-opacity=\"1\" /><path clip-path=\"url(#clip750)\" d=\"M121.293 573.452 L126.177 573.452 L126.177 579.332 L121.293 579.332 L121.293 573.452 Z\" fill=\"#000000\" fill-rule=\"evenodd\" fill-opacity=\"1\" /><path clip-path=\"url(#clip750)\" d=\"M140.39 575.397 L156.709 575.397 L156.709 579.332 L134.765 579.332 L134.765 575.397 Q137.427 572.642 142.01 568.013 Q146.617 563.36 147.797 562.017 Q150.043 559.494 150.922 557.758 Q151.825 555.999 151.825 554.309 Q151.825 551.554 149.88 549.818 Q147.959 548.082 144.857 548.082 Q142.658 548.082 140.205 548.846 Q137.774 549.61 134.996 551.161 L134.996 546.439 Q137.82 545.304 140.274 544.726 Q142.728 544.147 144.765 544.147 Q150.135 544.147 153.33 546.832 Q156.524 549.517 156.524 554.008 Q156.524 556.138 155.714 558.059 Q154.927 559.957 152.82 562.55 Q152.242 563.221 149.14 566.439 Q146.038 569.633 140.39 575.397 Z\" fill=\"#000000\" fill-rule=\"evenodd\" fill-opacity=\"1\" /><path clip-path=\"url(#clip750)\" d=\"M100.182 359.541 Q96.5706 359.541 94.7419 363.106 Q92.9363 366.647 92.9363 373.777 Q92.9363 380.883 94.7419 384.448 Q96.5706 387.99 100.182 387.99 Q103.816 387.99 105.621 384.448 Q107.45 380.883 107.45 373.777 Q107.45 366.647 105.621 363.106 Q103.816 359.541 100.182 359.541 M100.182 355.837 Q105.992 355.837 109.047 360.444 Q112.126 365.027 112.126 373.777 Q112.126 382.504 109.047 387.11 Q105.992 391.694 100.182 391.694 Q94.3715 391.694 91.2928 387.11 Q88.2373 382.504 88.2373 373.777 Q88.2373 365.027 91.2928 360.444 Q94.3715 355.837 100.182 355.837 Z\" fill=\"#000000\" fill-rule=\"evenodd\" fill-opacity=\"1\" /><path clip-path=\"url(#clip750)\" d=\"M120.344 385.143 L125.228 385.143 L125.228 391.022 L120.344 391.022 L120.344 385.143 Z\" fill=\"#000000\" fill-rule=\"evenodd\" fill-opacity=\"1\" /><path clip-path=\"url(#clip750)\" d=\"M149.58 372.388 Q152.936 373.106 154.811 375.374 Q156.709 377.643 156.709 380.976 Q156.709 386.092 153.191 388.893 Q149.672 391.694 143.191 391.694 Q141.015 391.694 138.7 391.254 Q136.408 390.837 133.955 389.981 L133.955 385.467 Q135.899 386.601 138.214 387.18 Q140.529 387.758 143.052 387.758 Q147.45 387.758 149.742 386.022 Q152.056 384.286 152.056 380.976 Q152.056 377.921 149.904 376.208 Q147.774 374.471 143.955 374.471 L139.927 374.471 L139.927 370.629 L144.14 370.629 Q147.589 370.629 149.418 369.263 Q151.246 367.874 151.246 365.282 Q151.246 362.62 149.348 361.208 Q147.473 359.772 143.955 359.772 Q142.033 359.772 139.834 360.189 Q137.635 360.606 134.996 361.485 L134.996 357.319 Q137.658 356.578 139.973 356.208 Q142.311 355.837 144.371 355.837 Q149.695 355.837 152.797 358.268 Q155.899 360.675 155.899 364.796 Q155.899 367.666 154.255 369.657 Q152.612 371.624 149.58 372.388 Z\" fill=\"#000000\" fill-rule=\"evenodd\" fill-opacity=\"1\" /><path clip-path=\"url(#clip750)\" d=\"M99.0474 171.231 Q95.4363 171.231 93.6076 174.796 Q91.8021 178.338 91.8021 185.467 Q91.8021 192.574 93.6076 196.139 Q95.4363 199.68 99.0474 199.68 Q102.682 199.68 104.487 196.139 Q106.316 192.574 106.316 185.467 Q106.316 178.338 104.487 174.796 Q102.682 171.231 99.0474 171.231 M99.0474 167.528 Q104.858 167.528 107.913 172.134 Q110.992 176.717 110.992 185.467 Q110.992 194.194 107.913 198.801 Q104.858 203.384 99.0474 203.384 Q93.2373 203.384 90.1586 198.801 Q87.103 194.194 87.103 185.467 Q87.103 176.717 90.1586 172.134 Q93.2373 167.528 99.0474 167.528 Z\" fill=\"#000000\" fill-rule=\"evenodd\" fill-opacity=\"1\" /><path clip-path=\"url(#clip750)\" d=\"M119.209 196.833 L124.094 196.833 L124.094 202.713 L119.209 202.713 L119.209 196.833 Z\" fill=\"#000000\" fill-rule=\"evenodd\" fill-opacity=\"1\" /><path clip-path=\"url(#clip750)\" d=\"M147.126 172.227 L135.32 190.676 L147.126 190.676 L147.126 172.227 M145.899 168.153 L151.779 168.153 L151.779 190.676 L156.709 190.676 L156.709 194.565 L151.779 194.565 L151.779 202.713 L147.126 202.713 L147.126 194.565 L131.524 194.565 L131.524 190.051 L145.899 168.153 Z\" fill=\"#000000\" fill-rule=\"evenodd\" fill-opacity=\"1\" /><path clip-path=\"url(#clip750)\" d=\"M1053.56 12.096 L1061.74 12.096 L1061.74 72.576 L1053.56 72.576 L1053.56 12.096 Z\" fill=\"#000000\" fill-rule=\"evenodd\" fill-opacity=\"1\" /><path clip-path=\"url(#clip750)\" d=\"M1115.42 45.1919 L1115.42 72.576 L1107.96 72.576 L1107.96 45.4349 Q1107.96 38.994 1105.45 35.7938 Q1102.94 32.5936 1097.92 32.5936 Q1091.88 32.5936 1088.4 36.4419 Q1084.91 40.2903 1084.91 46.9338 L1084.91 72.576 L1077.42 72.576 L1077.42 27.2059 L1084.91 27.2059 L1084.91 34.2544 Q1087.59 30.163 1091.19 28.1376 Q1094.84 26.1121 1099.58 26.1121 Q1107.39 26.1121 1111.41 30.9732 Q1115.42 35.7938 1115.42 45.1919 Z\" fill=\"#000000\" fill-rule=\"evenodd\" fill-opacity=\"1\" /><path clip-path=\"url(#clip750)\" d=\"M1130.28 27.2059 L1137.74 27.2059 L1137.74 72.576 L1130.28 72.576 L1130.28 27.2059 M1130.28 9.54393 L1137.74 9.54393 L1137.74 18.9825 L1130.28 18.9825 L1130.28 9.54393 Z\" fill=\"#000000\" fill-rule=\"evenodd\" fill-opacity=\"1\" /><path clip-path=\"url(#clip750)\" d=\"M1160.7 14.324 L1160.7 27.2059 L1176.06 27.2059 L1176.06 32.9987 L1160.7 32.9987 L1160.7 57.6282 Q1160.7 63.1779 1162.2 64.7578 Q1163.74 66.3376 1168.4 66.3376 L1176.06 66.3376 L1176.06 72.576 L1168.4 72.576 Q1159.77 72.576 1156.49 69.3758 Q1153.21 66.1351 1153.21 57.6282 L1153.21 32.9987 L1147.74 32.9987 L1147.74 27.2059 L1153.21 27.2059 L1153.21 14.324 L1160.7 14.324 Z\" fill=\"#000000\" fill-rule=\"evenodd\" fill-opacity=\"1\" /><path clip-path=\"url(#clip750)\" d=\"M1185.86 27.2059 L1193.31 27.2059 L1193.31 72.576 L1185.86 72.576 L1185.86 27.2059 M1185.86 9.54393 L1193.31 9.54393 L1193.31 18.9825 L1185.86 18.9825 L1185.86 9.54393 Z\" fill=\"#000000\" fill-rule=\"evenodd\" fill-opacity=\"1\" /><path clip-path=\"url(#clip750)\" d=\"M1229.53 49.7694 Q1220.5 49.7694 1217.01 51.8354 Q1213.53 53.9013 1213.53 58.8839 Q1213.53 62.8538 1216.12 65.2034 Q1218.75 67.5124 1223.25 67.5124 Q1229.45 67.5124 1233.18 63.1374 Q1236.94 58.7219 1236.94 51.4303 L1236.94 49.7694 L1229.53 49.7694 M1244.4 46.6907 L1244.4 72.576 L1236.94 72.576 L1236.94 65.6895 Q1234.39 69.8214 1230.58 71.8063 Q1226.78 73.7508 1221.27 73.7508 Q1214.3 73.7508 1210.17 69.8619 Q1206.07 65.9325 1206.07 59.3701 Q1206.07 51.7138 1211.18 47.825 Q1216.32 43.9361 1226.49 43.9361 L1236.94 43.9361 L1236.94 43.2069 Q1236.94 38.0623 1233.54 35.2672 Q1230.18 32.4315 1224.06 32.4315 Q1220.17 32.4315 1216.49 33.3632 Q1212.8 34.295 1209.4 36.1584 L1209.4 29.2718 Q1213.49 27.692 1217.34 26.9223 Q1221.18 26.1121 1224.83 26.1121 Q1234.67 26.1121 1239.54 31.2163 Q1244.4 36.3204 1244.4 46.6907 Z\" fill=\"#000000\" fill-rule=\"evenodd\" fill-opacity=\"1\" /><path clip-path=\"url(#clip750)\" d=\"M1259.75 9.54393 L1267.2 9.54393 L1267.2 72.576 L1259.75 72.576 L1259.75 9.54393 Z\" fill=\"#000000\" fill-rule=\"evenodd\" fill-opacity=\"1\" /><path clip-path=\"url(#clip750)\" d=\"M1317.68 18.8205 L1317.68 65.8515 L1327.56 65.8515 Q1340.08 65.8515 1345.87 60.1802 Q1351.7 54.509 1351.7 42.2752 Q1351.7 30.1225 1345.87 24.4918 Q1340.08 18.8205 1327.56 18.8205 L1317.68 18.8205 M1309.49 12.096 L1326.31 12.096 Q1343.89 12.096 1352.11 19.4281 Q1360.33 26.7198 1360.33 42.2752 Q1360.33 57.9117 1352.07 65.2439 Q1343.81 72.576 1326.31 72.576 L1309.49 72.576 L1309.49 12.096 Z\" fill=\"#000000\" fill-rule=\"evenodd\" fill-opacity=\"1\" /><path clip-path=\"url(#clip750)\" d=\"M1393.67 49.7694 Q1384.64 49.7694 1381.15 51.8354 Q1377.67 53.9013 1377.67 58.8839 Q1377.67 62.8538 1380.26 65.2034 Q1382.9 67.5124 1387.39 67.5124 Q1393.59 67.5124 1397.32 63.1374 Q1401.09 58.7219 1401.09 51.4303 L1401.09 49.7694 L1393.67 49.7694 M1408.54 46.6907 L1408.54 72.576 L1401.09 72.576 L1401.09 65.6895 Q1398.53 69.8214 1394.73 71.8063 Q1390.92 73.7508 1385.41 73.7508 Q1378.44 73.7508 1374.31 69.8619 Q1370.22 65.9325 1370.22 59.3701 Q1370.22 51.7138 1375.32 47.825 Q1380.47 43.9361 1390.63 43.9361 L1401.09 43.9361 L1401.09 43.2069 Q1401.09 38.0623 1397.68 35.2672 Q1394.32 32.4315 1388.2 32.4315 Q1384.31 32.4315 1380.63 33.3632 Q1376.94 34.295 1373.54 36.1584 L1373.54 29.2718 Q1377.63 27.692 1381.48 26.9223 Q1385.33 26.1121 1388.97 26.1121 Q1398.82 26.1121 1403.68 31.2163 Q1408.54 36.3204 1408.54 46.6907 Z\" fill=\"#000000\" fill-rule=\"evenodd\" fill-opacity=\"1\" /><path clip-path=\"url(#clip750)\" d=\"M1431.26 14.324 L1431.26 27.2059 L1446.62 27.2059 L1446.62 32.9987 L1431.26 32.9987 L1431.26 57.6282 Q1431.26 63.1779 1432.76 64.7578 Q1434.3 66.3376 1438.96 66.3376 L1446.62 66.3376 L1446.62 72.576 L1438.96 72.576 Q1430.33 72.576 1427.05 69.3758 Q1423.77 66.1351 1423.77 57.6282 L1423.77 32.9987 L1418.3 32.9987 L1418.3 27.2059 L1423.77 27.2059 L1423.77 14.324 L1431.26 14.324 Z\" fill=\"#000000\" fill-rule=\"evenodd\" fill-opacity=\"1\" /><path clip-path=\"url(#clip750)\" d=\"M1477.04 49.7694 Q1468.01 49.7694 1464.52 51.8354 Q1461.04 53.9013 1461.04 58.8839 Q1461.04 62.8538 1463.63 65.2034 Q1466.26 67.5124 1470.76 67.5124 Q1476.96 67.5124 1480.69 63.1374 Q1484.45 58.7219 1484.45 51.4303 L1484.45 49.7694 L1477.04 49.7694 M1491.91 46.6907 L1491.91 72.576 L1484.45 72.576 L1484.45 65.6895 Q1481.9 69.8214 1478.09 71.8063 Q1474.29 73.7508 1468.78 73.7508 Q1461.81 73.7508 1457.68 69.8619 Q1453.59 65.9325 1453.59 59.3701 Q1453.59 51.7138 1458.69 47.825 Q1463.83 43.9361 1474 43.9361 L1484.45 43.9361 L1484.45 43.2069 Q1484.45 38.0623 1481.05 35.2672 Q1477.69 32.4315 1471.57 32.4315 Q1467.68 32.4315 1464 33.3632 Q1460.31 34.295 1456.91 36.1584 L1456.91 29.2718 Q1461 27.692 1464.85 26.9223 Q1468.7 26.1121 1472.34 26.1121 Q1482.18 26.1121 1487.05 31.2163 Q1491.91 36.3204 1491.91 46.6907 Z\" fill=\"#000000\" fill-rule=\"evenodd\" fill-opacity=\"1\" /><polyline clip-path=\"url(#clip752)\" style=\"stroke:#009af9; stroke-linecap:round; stroke-linejoin:round; stroke-width:4; stroke-opacity:1; fill:none\" points=\"192.709,938.671 203.509,938.671 214.31,938.671 225.11,938.671 235.91,938.671 246.71,938.671 257.511,938.671 268.311,938.671 279.111,938.671 289.911,938.671 300.711,938.671 311.512,938.671 322.312,938.671 333.112,938.671 343.912,938.67 354.713,938.669 365.513,938.666 376.313,938.662 387.113,938.655 397.914,938.643 408.714,938.622 419.514,938.588 430.314,938.531 441.115,938.44 451.915,938.295 462.715,938.069 473.515,937.724 484.315,937.205 495.116,936.441 505.916,935.34 516.716,933.791 527.516,931.662 538.317,928.809 549.117,925.092 559.917,920.389 570.717,914.619 581.518,907.769 592.318,899.912 603.118,891.216 613.918,881.937 624.719,872.405 635.519,862.985 646.319,854.041 657.119,845.892 667.919,838.775 678.72,832.812 689.52,827.977 700.32,824.086 711.12,820.793 721.921,817.628 732.721,814.078 743.521,809.689 754.321,804.185 765.122,797.541 775.922,789.989 786.722,781.95 797.522,773.929 808.322,766.402 819.123,759.738 829.923,754.16 840.723,749.739 851.523,746.424 862.324,744.074 873.124,742.501 883.924,741.51 894.724,740.924 905.525,740.598 916.325,740.429 927.125,740.347 937.925,740.31 948.726,740.294 959.526,740.288 970.326,740.286 981.126,740.286 991.926,740.285 1002.73,740.285 1013.53,740.285 1024.33,740.285 1035.13,740.285 1045.93,740.285 1056.73,740.285 1067.53,740.285 1078.33,740.285 1089.13,740.285 1099.93,740.285 1110.73,740.285 1121.53,740.285 1132.33,740.285 1143.13,740.285 1153.93,740.285 1164.73,740.285 1175.53,740.285 1186.33,740.285 1197.13,740.285 1207.93,740.285 1218.73,740.285 1229.53,740.285 1240.33,740.285 1251.13,740.285 1261.93,740.285 1272.73,740.285 1283.53,740.285 1294.33,740.285 1305.13,740.285 1315.93,740.285 1326.73,740.285 1337.53,740.285 1348.33,740.285 1359.13,740.285 1369.93,740.285 1380.73,740.285 1391.54,740.285 1402.34,740.285 1413.14,740.285 1423.94,740.285 1434.74,740.285 1445.54,740.285 1456.34,740.285 1467.14,740.285 1477.94,740.285 1488.74,740.285 1499.54,740.285 1510.34,740.285 1521.14,740.285 1531.94,740.285 1542.74,740.285 1553.54,740.285 1564.34,740.285 1575.14,740.285 1585.94,740.285 1596.74,740.285 1607.54,740.285 1618.34,740.285 1629.14,740.285 1639.94,740.285 1650.74,740.285 1661.54,740.285 1672.34,740.285 1683.14,740.285 1693.94,740.285 1704.74,740.285 1715.54,740.285 1726.34,740.285 1737.14,740.285 1747.94,740.285 1758.74,740.285 1769.54,740.285 1780.34,740.285 1791.14,740.285 1801.94,740.285 1812.74,740.285 1823.54,740.285 1834.34,740.285 1845.14,740.285 1855.95,740.285 1866.75,740.285 1877.55,740.285 1888.35,740.285 1899.15,740.285 1909.95,740.285 1920.75,740.285 1931.55,740.285 1942.35,740.285 1953.15,740.285 1963.95,740.285 1974.75,740.285 1985.55,740.285 1996.35,740.285 2007.15,740.285 2017.95,740.285 2028.75,740.285 2039.55,740.285 2050.35,740.285 2061.15,740.285 2071.95,740.285 2082.75,740.285 2093.55,740.285 2104.35,740.285 2115.15,740.285 2125.95,740.285 2136.75,740.285 2147.55,740.285 2158.35,740.285 2169.15,740.285 2179.95,740.285 2190.75,740.285 2201.55,740.285 2212.35,740.285 2223.15,740.285 2233.95,740.285 2244.75,740.285 2255.55,740.285 2266.35,740.285 2277.15,740.285 2287.95,740.285 2298.75,740.285 2309.55,740.285 2320.36,740.285 2331.16,740.285 2341.96,740.285 2352.76,740.285 \"/>\n",
       "<polyline clip-path=\"url(#clip752)\" style=\"stroke:#e26f46; stroke-linecap:round; stroke-linejoin:round; stroke-width:4; stroke-opacity:1; fill:none\" points=\"192.709,938.671 203.509,938.671 214.31,938.671 225.11,938.671 235.91,938.671 246.71,938.671 257.511,938.671 268.311,938.671 279.111,938.671 289.911,938.67 300.711,938.669 311.512,938.668 322.312,938.665 333.112,938.66 343.912,938.651 354.713,938.636 365.513,938.611 376.313,938.57 387.113,938.501 397.914,938.391 408.714,938.213 419.514,937.932 430.314,937.494 441.115,936.821 451.915,935.801 462.715,934.282 473.515,932.055 484.315,928.847 495.116,924.308 505.916,918.008 516.716,909.438 527.516,898.025 538.317,883.162 549.117,864.265 559.917,840.843 570.717,812.596 581.518,779.516 592.318,741.999 603.118,700.912 613.918,657.63 624.719,613.983 635.519,572.114 646.319,534.245 657.119,502.357 667.919,477.854 678.72,461.248 689.52,451.969 700.32,448.346 711.12,447.809 721.921,447.291 732.721,443.76 743.521,434.779 754.321,418.959 765.122,396.194 775.922,367.62 786.722,335.32 797.522,301.857 808.322,269.75 819.123,241.04 829.923,217.02 840.723,198.176 851.523,184.295 862.324,174.692 873.124,168.452 883.924,164.647 894.724,162.471 905.525,161.306 916.325,160.723 927.125,160.45 937.925,160.331 948.726,160.283 959.526,160.265 970.326,160.259 981.126,160.257 991.926,160.257 1002.73,160.256 1013.53,160.256 1024.33,160.256 1035.13,160.256 1045.93,160.256 1056.73,160.256 1067.53,160.256 1078.33,160.256 1089.13,160.256 1099.93,160.256 1110.73,160.256 1121.53,160.256 1132.33,160.256 1143.13,160.256 1153.93,160.256 1164.73,160.256 1175.53,160.256 1186.33,160.256 1197.13,160.256 1207.93,160.256 1218.73,160.256 1229.53,160.256 1240.33,160.256 1251.13,160.256 1261.93,160.256 1272.73,160.256 1283.53,160.256 1294.33,160.256 1305.13,160.256 1315.93,160.256 1326.73,160.256 1337.53,160.256 1348.33,160.256 1359.13,160.256 1369.93,160.256 1380.73,160.256 1391.54,160.256 1402.34,160.256 1413.14,160.256 1423.94,160.256 1434.74,160.256 1445.54,160.256 1456.34,160.256 1467.14,160.256 1477.94,160.256 1488.74,160.256 1499.54,160.256 1510.34,160.256 1521.14,160.256 1531.94,160.256 1542.74,160.256 1553.54,160.256 1564.34,160.256 1575.14,160.256 1585.94,160.256 1596.74,160.256 1607.54,160.256 1618.34,160.256 1629.14,160.256 1639.94,160.256 1650.74,160.256 1661.54,160.256 1672.34,160.256 1683.14,160.256 1693.94,160.256 1704.74,160.256 1715.54,160.256 1726.34,160.256 1737.14,160.256 1747.94,160.256 1758.74,160.256 1769.54,160.256 1780.34,160.256 1791.14,160.256 1801.94,160.256 1812.74,160.256 1823.54,160.256 1834.34,160.256 1845.14,160.256 1855.95,160.256 1866.75,160.256 1877.55,160.256 1888.35,160.256 1899.15,160.256 1909.95,160.256 1920.75,160.256 1931.55,160.256 1942.35,160.256 1953.15,160.256 1963.95,160.256 1974.75,160.256 1985.55,160.256 1996.35,160.256 2007.15,160.256 2017.95,160.256 2028.75,160.256 2039.55,160.256 2050.35,160.256 2061.15,160.256 2071.95,160.256 2082.75,160.256 2093.55,160.256 2104.35,160.256 2115.15,160.256 2125.95,160.256 2136.75,160.256 2147.55,160.256 2158.35,160.256 2169.15,160.256 2179.95,160.256 2190.75,160.256 2201.55,160.256 2212.35,160.256 2223.15,160.256 2233.95,160.256 2244.75,160.256 2255.55,160.256 2266.35,160.256 2277.15,160.256 2287.95,160.256 2298.75,160.256 2309.55,160.256 2320.36,160.256 2331.16,160.256 2341.96,160.256 2352.76,160.256 \"/>\n",
       "<polyline clip-path=\"url(#clip752)\" style=\"stroke:#3da44d; stroke-linecap:round; stroke-linejoin:round; stroke-width:4; stroke-opacity:1; fill:none\" points=\"192.709,938.671 203.509,938.671 214.31,938.671 225.11,938.671 235.91,938.67 246.71,938.669 257.511,938.668 268.311,938.666 279.111,938.663 289.911,938.658 300.711,938.652 311.512,938.643 322.312,938.631 333.112,938.614 343.912,938.591 354.713,938.559 365.513,938.516 376.313,938.459 387.113,938.382 397.914,938.281 408.714,938.148 419.514,937.976 430.314,937.753 441.115,937.469 451.915,937.108 462.715,936.654 473.515,936.089 484.315,935.391 495.116,934.538 505.916,933.506 516.716,932.27 527.516,930.807 538.317,929.095 549.117,927.117 559.917,924.86 570.717,922.322 581.518,919.51 592.318,916.446 603.118,913.166 613.918,909.722 624.719,906.187 635.519,902.649 646.319,899.21 657.119,895.988 667.919,893.105 678.72,890.685 689.52,888.844 700.32,887.683 711.12,887.282 721.921,887.686 732.721,888.906 743.521,890.913 754.321,893.639 765.122,896.978 775.922,900.794 786.722,904.933 797.522,909.228 808.322,913.517 819.123,917.651 829.923,921.504 840.723,924.981 851.523,928.022 862.324,930.598 873.124,932.713 883.924,934.394 894.724,935.689 905.525,936.654 916.325,937.349 927.125,937.832 937.925,938.157 948.726,938.367 959.526,938.498 970.326,938.576 981.126,938.621 991.926,938.646 1002.73,938.659 1013.53,938.666 1024.33,938.669 1035.13,938.67 1045.93,938.671 1056.73,938.671 1067.53,938.671 1078.33,938.671 1089.13,938.671 1099.93,938.671 1110.73,938.671 1121.53,938.671 1132.33,938.671 1143.13,938.671 1153.93,938.671 1164.73,938.671 1175.53,938.671 1186.33,938.671 1197.13,938.671 1207.93,938.671 1218.73,938.671 1229.53,938.671 1240.33,938.671 1251.13,938.671 1261.93,938.671 1272.73,938.671 1283.53,938.671 1294.33,938.671 1305.13,938.671 1315.93,938.671 1326.73,938.671 1337.53,938.671 1348.33,938.671 1359.13,938.671 1369.93,938.671 1380.73,938.671 1391.54,938.671 1402.34,938.671 1413.14,938.671 1423.94,938.671 1434.74,938.671 1445.54,938.671 1456.34,938.671 1467.14,938.671 1477.94,938.671 1488.74,938.671 1499.54,938.671 1510.34,938.671 1521.14,938.671 1531.94,938.671 1542.74,938.671 1553.54,938.671 1564.34,938.671 1575.14,938.671 1585.94,938.671 1596.74,938.671 1607.54,938.671 1618.34,938.671 1629.14,938.671 1639.94,938.671 1650.74,938.671 1661.54,938.671 1672.34,938.671 1683.14,938.671 1693.94,938.671 1704.74,938.671 1715.54,938.671 1726.34,938.671 1737.14,938.671 1747.94,938.671 1758.74,938.671 1769.54,938.671 1780.34,938.671 1791.14,938.671 1801.94,938.671 1812.74,938.671 1823.54,938.671 1834.34,938.671 1845.14,938.671 1855.95,938.671 1866.75,938.671 1877.55,938.671 1888.35,938.671 1899.15,938.671 1909.95,938.671 1920.75,938.671 1931.55,938.671 1942.35,938.671 1953.15,938.671 1963.95,938.671 1974.75,938.671 1985.55,938.671 1996.35,938.671 2007.15,938.671 2017.95,938.671 2028.75,938.671 2039.55,938.671 2050.35,938.671 2061.15,938.671 2071.95,938.671 2082.75,938.671 2093.55,938.671 2104.35,938.671 2115.15,938.671 2125.95,938.671 2136.75,938.671 2147.55,938.671 2158.35,938.671 2169.15,938.671 2179.95,938.671 2190.75,938.671 2201.55,938.671 2212.35,938.671 2223.15,938.671 2233.95,938.671 2244.75,938.671 2255.55,938.671 2266.35,938.671 2277.15,938.671 2287.95,938.671 2298.75,938.671 2309.55,938.671 2320.36,938.671 2331.16,938.671 2341.96,938.671 2352.76,938.671 \"/>\n",
       "<polyline clip-path=\"url(#clip752)\" style=\"stroke:#c271d2; stroke-linecap:round; stroke-linejoin:round; stroke-width:4; stroke-opacity:1; fill:none\" points=\"192.709,938.651 203.509,938.635 214.31,938.612 225.11,938.578 235.91,938.528 246.71,938.455 257.511,938.353 268.311,938.208 279.111,938.007 289.911,937.729 300.711,937.348 311.512,936.832 322.312,936.138 333.112,935.212 343.912,933.986 354.713,932.377 365.513,930.282 376.313,927.578 387.113,924.116 397.914,919.725 408.714,914.204 419.514,907.33 430.314,898.856 441.115,888.515 451.915,876.036 462.715,861.15 473.515,843.611 484.315,823.219 495.116,799.85 505.916,773.484 516.716,744.248 527.516,712.455 538.317,678.633 549.117,643.57 559.917,608.326 570.717,574.245 581.518,542.938 592.318,516.245 603.118,496.158 613.918,484.721 624.719,483.892 635.519,495.384 646.319,520.488 657.119,559.896 667.919,613.547 678.72,680.507 689.52,758.915 700.32,846.005 711.12,938.221 721.921,1031.42 732.721,1121.15 743.521,1203 754.321,1273 765.122,1327.89 775.922,1365.5 786.722,1384.89 797.522,1386.4 808.322,1371.62 819.123,1343.15 829.923,1304.31 840.723,1258.76 851.523,1210.15 862.324,1161.74 873.124,1116.22 883.924,1075.5 894.724,1040.72 905.525,1012.26 916.325,989.945 927.125,973.155 937.925,961.034 948.726,952.638 959.526,947.062 970.326,943.514 981.126,941.352 991.926,940.093 1002.73,939.392 1013.53,939.02 1024.33,938.832 1035.13,938.742 1045.93,938.701 1056.73,938.683 1067.53,938.676 1078.33,938.673 1089.13,938.672 1099.93,938.672 1110.73,938.671 1121.53,938.671 1132.33,938.671 1143.13,938.671 1153.93,938.671 1164.73,938.671 1175.53,938.671 1186.33,938.671 1197.13,938.671 1207.93,938.671 1218.73,938.671 1229.53,938.671 1240.33,938.671 1251.13,938.671 1261.93,938.671 1272.73,938.671 1283.53,938.671 1294.33,938.671 1305.13,938.671 1315.93,938.671 1326.73,938.671 1337.53,938.671 1348.33,938.671 1359.13,938.671 1369.93,938.671 1380.73,938.671 1391.54,938.671 1402.34,938.671 1413.14,938.671 1423.94,938.671 1434.74,938.671 1445.54,938.671 1456.34,938.671 1467.14,938.671 1477.94,938.671 1488.74,938.671 1499.54,938.671 1510.34,938.671 1521.14,938.671 1531.94,938.671 1542.74,938.671 1553.54,938.671 1564.34,938.671 1575.14,938.671 1585.94,938.671 1596.74,938.671 1607.54,938.671 1618.34,938.671 1629.14,938.671 1639.94,938.671 1650.74,938.671 1661.54,938.671 1672.34,938.671 1683.14,938.671 1693.94,938.671 1704.74,938.671 1715.54,938.671 1726.34,938.671 1737.14,938.671 1747.94,938.671 1758.74,938.671 1769.54,938.671 1780.34,938.671 1791.14,938.671 1801.94,938.671 1812.74,938.671 1823.54,938.671 1834.34,938.671 1845.14,938.671 1855.95,938.671 1866.75,938.671 1877.55,938.671 1888.35,938.671 1899.15,938.671 1909.95,938.671 1920.75,938.671 1931.55,938.671 1942.35,938.671 1953.15,938.671 1963.95,938.671 1974.75,938.671 1985.55,938.671 1996.35,938.671 2007.15,938.671 2017.95,938.671 2028.75,938.671 2039.55,938.671 2050.35,938.671 2061.15,938.671 2071.95,938.671 2082.75,938.671 2093.55,938.671 2104.35,938.671 2115.15,938.671 2125.95,938.671 2136.75,938.671 2147.55,938.671 2158.35,938.671 2169.15,938.671 2179.95,938.671 2190.75,938.671 2201.55,938.671 2212.35,938.671 2223.15,938.671 2233.95,938.671 2244.75,938.671 2255.55,938.671 2266.35,938.671 2277.15,938.671 2287.95,938.671 2298.75,938.671 2309.55,938.671 2320.36,938.671 2331.16,938.671 2341.96,938.671 2352.76,938.671 \"/>\n",
       "<path clip-path=\"url(#clip750)\" d=\"M1871.21 1379.86 L2280.75 1379.86 L2280.75 1120.66 L1871.21 1120.66  Z\" fill=\"#ffffff\" fill-rule=\"evenodd\" fill-opacity=\"1\"/>\n",
       "<polyline clip-path=\"url(#clip750)\" style=\"stroke:#000000; stroke-linecap:round; stroke-linejoin:round; stroke-width:4; stroke-opacity:1; fill:none\" points=\"1871.21,1379.86 2280.75,1379.86 2280.75,1120.66 1871.21,1120.66 1871.21,1379.86 \"/>\n",
       "<polyline clip-path=\"url(#clip750)\" style=\"stroke:#009af9; stroke-linecap:round; stroke-linejoin:round; stroke-width:4; stroke-opacity:1; fill:none\" points=\"1895.21,1172.5 2039.21,1172.5 \"/>\n",
       "<path clip-path=\"url(#clip750)\" d=\"M2083.56 1168.83 Q2085.16 1165.96 2087.38 1164.59 Q2089.6 1163.23 2092.61 1163.23 Q2096.66 1163.23 2098.86 1166.07 Q2101.06 1168.9 2101.06 1174.13 L2101.06 1189.78 L2096.78 1189.78 L2096.78 1174.27 Q2096.78 1170.54 2095.46 1168.73 Q2094.14 1166.93 2091.43 1166.93 Q2088.12 1166.93 2086.2 1169.13 Q2084.28 1171.33 2084.28 1175.12 L2084.28 1189.78 L2080 1189.78 L2080 1174.27 Q2080 1170.52 2078.68 1168.73 Q2077.36 1166.93 2074.6 1166.93 Q2071.34 1166.93 2069.42 1169.15 Q2067.5 1171.35 2067.5 1175.12 L2067.5 1189.78 L2063.21 1189.78 L2063.21 1163.85 L2067.5 1163.85 L2067.5 1167.88 Q2068.95 1165.49 2070.99 1164.36 Q2073.03 1163.23 2075.83 1163.23 Q2078.65 1163.23 2080.62 1164.66 Q2082.61 1166.1 2083.56 1168.83 Z\" fill=\"#000000\" fill-rule=\"evenodd\" fill-opacity=\"1\" /><polyline clip-path=\"url(#clip750)\" style=\"stroke:#e26f46; stroke-linecap:round; stroke-linejoin:round; stroke-width:4; stroke-opacity:1; fill:none\" points=\"1895.21,1224.34 2039.21,1224.34 \"/>\n",
       "<path clip-path=\"url(#clip750)\" d=\"M2081.99 1228.68 Q2081.99 1223.98 2080.04 1221.32 Q2078.12 1218.63 2074.74 1218.63 Q2071.36 1218.63 2069.42 1221.32 Q2067.5 1223.98 2067.5 1228.68 Q2067.5 1233.38 2069.42 1236.06 Q2071.36 1238.72 2074.74 1238.72 Q2078.12 1238.72 2080.04 1236.06 Q2081.99 1233.38 2081.99 1228.68 M2067.5 1219.63 Q2068.84 1217.31 2070.88 1216.2 Q2072.94 1215.07 2075.78 1215.07 Q2080.5 1215.07 2083.44 1218.82 Q2086.41 1222.57 2086.41 1228.68 Q2086.41 1234.79 2083.44 1238.54 Q2080.5 1242.29 2075.78 1242.29 Q2072.94 1242.29 2070.88 1241.18 Q2068.84 1240.04 2067.5 1237.73 L2067.5 1241.62 L2063.21 1241.62 L2063.21 1205.6 L2067.5 1205.6 L2067.5 1219.63 Z\" fill=\"#000000\" fill-rule=\"evenodd\" fill-opacity=\"1\" /><path clip-path=\"url(#clip750)\" d=\"M2115.64 1227.59 L2115.64 1229.67 L2096.06 1229.67 Q2096.34 1234.07 2098.7 1236.38 Q2101.08 1238.68 2105.32 1238.68 Q2107.77 1238.68 2110.06 1238.07 Q2112.38 1237.47 2114.65 1236.27 L2114.65 1240.3 Q2112.36 1241.27 2109.95 1241.78 Q2107.54 1242.29 2105.06 1242.29 Q2098.86 1242.29 2095.23 1238.68 Q2091.62 1235.07 2091.62 1228.91 Q2091.62 1222.54 2095.04 1218.82 Q2098.49 1215.07 2104.32 1215.07 Q2109.56 1215.07 2112.59 1218.45 Q2115.64 1221.8 2115.64 1227.59 M2111.38 1226.34 Q2111.34 1222.84 2109.42 1220.76 Q2107.52 1218.68 2104.37 1218.68 Q2100.81 1218.68 2098.65 1220.69 Q2096.52 1222.7 2096.2 1226.36 L2111.38 1226.34 Z\" fill=\"#000000\" fill-rule=\"evenodd\" fill-opacity=\"1\" /><path clip-path=\"url(#clip750)\" d=\"M2126.85 1208.33 L2126.85 1215.69 L2135.62 1215.69 L2135.62 1219 L2126.85 1219 L2126.85 1233.07 Q2126.85 1236.25 2127.7 1237.15 Q2128.58 1238.05 2131.25 1238.05 L2135.62 1238.05 L2135.62 1241.62 L2131.25 1241.62 Q2126.31 1241.62 2124.44 1239.79 Q2122.56 1237.94 2122.56 1233.07 L2122.56 1219 L2119.44 1219 L2119.44 1215.69 L2122.56 1215.69 L2122.56 1208.33 L2126.85 1208.33 Z\" fill=\"#000000\" fill-rule=\"evenodd\" fill-opacity=\"1\" /><path clip-path=\"url(#clip750)\" d=\"M2153 1228.58 Q2147.84 1228.58 2145.85 1229.76 Q2143.86 1230.95 2143.86 1233.79 Q2143.86 1236.06 2145.34 1237.4 Q2146.85 1238.72 2149.42 1238.72 Q2152.96 1238.72 2155.09 1236.22 Q2157.24 1233.7 2157.24 1229.53 L2157.24 1228.58 L2153 1228.58 M2161.5 1226.82 L2161.5 1241.62 L2157.24 1241.62 L2157.24 1237.68 Q2155.78 1240.04 2153.61 1241.18 Q2151.43 1242.29 2148.28 1242.29 Q2144.3 1242.29 2141.94 1240.07 Q2139.6 1237.82 2139.6 1234.07 Q2139.6 1229.7 2142.52 1227.47 Q2145.46 1225.25 2151.27 1225.25 L2157.24 1225.25 L2157.24 1224.83 Q2157.24 1221.89 2155.3 1220.3 Q2153.37 1218.68 2149.88 1218.68 Q2147.66 1218.68 2145.55 1219.21 Q2143.44 1219.74 2141.5 1220.81 L2141.5 1216.87 Q2143.84 1215.97 2146.04 1215.53 Q2148.24 1215.07 2150.32 1215.07 Q2155.94 1215.07 2158.72 1217.98 Q2161.5 1220.9 2161.5 1226.82 Z\" fill=\"#000000\" fill-rule=\"evenodd\" fill-opacity=\"1\" /><polyline clip-path=\"url(#clip750)\" style=\"stroke:#3da44d; stroke-linecap:round; stroke-linejoin:round; stroke-width:4; stroke-opacity:1; fill:none\" points=\"1895.21,1276.18 2039.21,1276.18 \"/>\n",
       "<path clip-path=\"url(#clip750)\" d=\"M2063.21 1267.53 L2067.47 1267.53 L2072.8 1287.76 L2078.1 1267.53 L2083.12 1267.53 L2088.44 1287.76 L2093.75 1267.53 L2098 1267.53 L2091.22 1293.46 L2086.2 1293.46 L2080.62 1272.21 L2075.02 1293.46 L2070 1293.46 L2063.21 1267.53 Z\" fill=\"#000000\" fill-rule=\"evenodd\" fill-opacity=\"1\" /><path clip-path=\"url(#clip750)\" d=\"M2123.07 1280.52 Q2123.07 1275.82 2121.13 1273.16 Q2119.21 1270.47 2115.83 1270.47 Q2112.45 1270.47 2110.5 1273.16 Q2108.58 1275.82 2108.58 1280.52 Q2108.58 1285.22 2110.5 1287.9 Q2112.45 1290.56 2115.83 1290.56 Q2119.21 1290.56 2121.13 1287.9 Q2123.07 1285.22 2123.07 1280.52 M2108.58 1271.47 Q2109.93 1269.15 2111.96 1268.04 Q2114.02 1266.91 2116.87 1266.91 Q2121.59 1266.91 2124.53 1270.66 Q2127.5 1274.41 2127.5 1280.52 Q2127.5 1286.63 2124.53 1290.38 Q2121.59 1294.13 2116.87 1294.13 Q2114.02 1294.13 2111.96 1293.02 Q2109.93 1291.88 2108.58 1289.57 L2108.58 1293.46 L2104.3 1293.46 L2104.3 1257.44 L2108.58 1257.44 L2108.58 1271.47 Z\" fill=\"#000000\" fill-rule=\"evenodd\" fill-opacity=\"1\" /><path clip-path=\"url(#clip750)\" d=\"M2146.34 1280.42 Q2141.18 1280.42 2139.19 1281.6 Q2137.19 1282.79 2137.19 1285.63 Q2137.19 1287.9 2138.68 1289.24 Q2140.18 1290.56 2142.75 1290.56 Q2146.29 1290.56 2148.42 1288.06 Q2150.57 1285.54 2150.57 1281.37 L2150.57 1280.42 L2146.34 1280.42 M2154.83 1278.66 L2154.83 1293.46 L2150.57 1293.46 L2150.57 1289.52 Q2149.12 1291.88 2146.94 1293.02 Q2144.76 1294.13 2141.62 1294.13 Q2137.63 1294.13 2135.27 1291.91 Q2132.94 1289.66 2132.94 1285.91 Q2132.94 1281.54 2135.85 1279.31 Q2138.79 1277.09 2144.6 1277.09 L2150.57 1277.09 L2150.57 1276.67 Q2150.57 1273.73 2148.63 1272.14 Q2146.71 1270.52 2143.21 1270.52 Q2140.99 1270.52 2138.88 1271.05 Q2136.78 1271.58 2134.83 1272.65 L2134.83 1268.71 Q2137.17 1267.81 2139.37 1267.37 Q2141.57 1266.91 2143.65 1266.91 Q2149.28 1266.91 2152.06 1269.82 Q2154.83 1272.74 2154.83 1278.66 Z\" fill=\"#000000\" fill-rule=\"evenodd\" fill-opacity=\"1\" /><path clip-path=\"url(#clip750)\" d=\"M2178.63 1271.51 Q2177.91 1271.1 2177.06 1270.91 Q2176.22 1270.7 2175.2 1270.7 Q2171.59 1270.7 2169.65 1273.06 Q2167.73 1275.4 2167.73 1279.8 L2167.73 1293.46 L2163.44 1293.46 L2163.44 1267.53 L2167.73 1267.53 L2167.73 1271.56 Q2169.07 1269.2 2171.22 1268.06 Q2173.37 1266.91 2176.45 1266.91 Q2176.89 1266.91 2177.43 1266.97 Q2177.96 1267.02 2178.61 1267.14 L2178.63 1271.51 Z\" fill=\"#000000\" fill-rule=\"evenodd\" fill-opacity=\"1\" /><polyline clip-path=\"url(#clip750)\" style=\"stroke:#c271d2; stroke-linecap:round; stroke-linejoin:round; stroke-width:4; stroke-opacity:1; fill:none\" points=\"1895.21,1328.02 2039.21,1328.02 \"/>\n",
       "<path clip-path=\"url(#clip750)\" d=\"M2082.13 1323.31 L2082.13 1309.28 L2086.38 1309.28 L2086.38 1345.3 L2082.13 1345.3 L2082.13 1341.41 Q2080.78 1343.72 2078.72 1344.86 Q2076.69 1345.97 2073.81 1345.97 Q2069.12 1345.97 2066.15 1342.22 Q2063.21 1338.47 2063.21 1332.36 Q2063.21 1326.25 2066.15 1322.5 Q2069.12 1318.75 2073.81 1318.75 Q2076.69 1318.75 2078.72 1319.88 Q2080.78 1320.99 2082.13 1323.31 M2067.61 1332.36 Q2067.61 1337.06 2069.53 1339.74 Q2071.48 1342.4 2074.86 1342.4 Q2078.24 1342.4 2080.18 1339.74 Q2082.13 1337.06 2082.13 1332.36 Q2082.13 1327.66 2080.18 1325 Q2078.24 1322.31 2074.86 1322.31 Q2071.48 1322.31 2069.53 1325 Q2067.61 1327.66 2067.61 1332.36 Z\" fill=\"#000000\" fill-rule=\"evenodd\" fill-opacity=\"1\" /><path clip-path=\"url(#clip750)\" d=\"M2117.33 1331.27 L2117.33 1333.35 L2097.75 1333.35 Q2098.03 1337.75 2100.39 1340.06 Q2102.77 1342.36 2107.01 1342.36 Q2109.46 1342.36 2111.75 1341.75 Q2114.07 1341.15 2116.34 1339.95 L2116.34 1343.98 Q2114.05 1344.95 2111.64 1345.46 Q2109.23 1345.97 2106.75 1345.97 Q2100.55 1345.97 2096.92 1342.36 Q2093.31 1338.75 2093.31 1332.59 Q2093.31 1326.22 2096.73 1322.5 Q2100.18 1318.75 2106.01 1318.75 Q2111.25 1318.75 2114.28 1322.13 Q2117.33 1325.48 2117.33 1331.27 M2113.07 1330.02 Q2113.03 1326.52 2111.11 1324.44 Q2109.21 1322.36 2106.06 1322.36 Q2102.5 1322.36 2100.34 1324.37 Q2098.21 1326.38 2097.89 1330.04 L2113.07 1330.02 Z\" fill=\"#000000\" fill-rule=\"evenodd\" fill-opacity=\"1\" /><path clip-path=\"url(#clip750)\" d=\"M2139.35 1323.35 Q2138.63 1322.94 2137.77 1322.75 Q2136.94 1322.54 2135.92 1322.54 Q2132.31 1322.54 2130.37 1324.9 Q2128.44 1327.24 2128.44 1331.64 L2128.44 1345.3 L2124.16 1345.3 L2124.16 1319.37 L2128.44 1319.37 L2128.44 1323.4 Q2129.79 1321.04 2131.94 1319.9 Q2134.09 1318.75 2137.17 1318.75 Q2137.61 1318.75 2138.14 1318.81 Q2138.68 1318.86 2139.32 1318.98 L2139.35 1323.35 Z\" fill=\"#000000\" fill-rule=\"evenodd\" fill-opacity=\"1\" /><path clip-path=\"url(#clip750)\" d=\"M2141.34 1319.37 L2145.6 1319.37 L2150.92 1339.6 L2156.22 1319.37 L2161.25 1319.37 L2166.57 1339.6 L2171.87 1319.37 L2176.13 1319.37 L2169.35 1345.3 L2164.32 1345.3 L2158.75 1324.05 L2153.14 1345.3 L2148.12 1345.3 L2141.34 1319.37 Z\" fill=\"#000000\" fill-rule=\"evenodd\" fill-opacity=\"1\" /><path clip-path=\"url(#clip750)\" d=\"M2201.2 1332.36 Q2201.2 1327.66 2199.25 1325 Q2197.33 1322.31 2193.95 1322.31 Q2190.57 1322.31 2188.63 1325 Q2186.71 1327.66 2186.71 1332.36 Q2186.71 1337.06 2188.63 1339.74 Q2190.57 1342.4 2193.95 1342.4 Q2197.33 1342.4 2199.25 1339.74 Q2201.2 1337.06 2201.2 1332.36 M2186.71 1323.31 Q2188.05 1320.99 2190.09 1319.88 Q2192.15 1318.75 2194.99 1318.75 Q2199.72 1318.75 2202.66 1322.5 Q2205.62 1326.25 2205.62 1332.36 Q2205.62 1338.47 2202.66 1342.22 Q2199.72 1345.97 2194.99 1345.97 Q2192.15 1345.97 2190.09 1344.86 Q2188.05 1343.72 2186.71 1341.41 L2186.71 1345.3 L2182.43 1345.3 L2182.43 1309.28 L2186.71 1309.28 L2186.71 1323.31 Z\" fill=\"#000000\" fill-rule=\"evenodd\" fill-opacity=\"1\" /><path clip-path=\"url(#clip750)\" d=\"M2224.46 1332.26 Q2219.3 1332.26 2217.31 1333.44 Q2215.32 1334.63 2215.32 1337.47 Q2215.32 1339.74 2216.8 1341.08 Q2218.3 1342.4 2220.87 1342.4 Q2224.42 1342.4 2226.55 1339.9 Q2228.7 1337.38 2228.7 1333.21 L2228.7 1332.26 L2224.46 1332.26 M2232.96 1330.5 L2232.96 1345.3 L2228.7 1345.3 L2228.7 1341.36 Q2227.24 1343.72 2225.06 1344.86 Q2222.89 1345.97 2219.74 1345.97 Q2215.76 1345.97 2213.4 1343.75 Q2211.06 1341.5 2211.06 1337.75 Q2211.06 1333.38 2213.98 1331.15 Q2216.92 1328.93 2222.73 1328.93 L2228.7 1328.93 L2228.7 1328.51 Q2228.7 1325.57 2226.75 1323.98 Q2224.83 1322.36 2221.34 1322.36 Q2219.12 1322.36 2217.01 1322.89 Q2214.9 1323.42 2212.96 1324.49 L2212.96 1320.55 Q2215.3 1319.65 2217.49 1319.21 Q2219.69 1318.75 2221.78 1318.75 Q2227.4 1318.75 2230.18 1321.66 Q2232.96 1324.58 2232.96 1330.5 Z\" fill=\"#000000\" fill-rule=\"evenodd\" fill-opacity=\"1\" /><path clip-path=\"url(#clip750)\" d=\"M2256.75 1323.35 Q2256.04 1322.94 2255.18 1322.75 Q2254.35 1322.54 2253.33 1322.54 Q2249.72 1322.54 2247.77 1324.9 Q2245.85 1327.24 2245.85 1331.64 L2245.85 1345.3 L2241.57 1345.3 L2241.57 1319.37 L2245.85 1319.37 L2245.85 1323.4 Q2247.19 1321.04 2249.35 1319.9 Q2251.5 1318.75 2254.58 1318.75 Q2255.02 1318.75 2255.55 1318.81 Q2256.08 1318.86 2256.73 1318.98 L2256.75 1323.35 Z\" fill=\"#000000\" fill-rule=\"evenodd\" fill-opacity=\"1\" /></svg>\n"
      ]
     },
     "execution_count": 42,
     "metadata": {},
     "output_type": "execute_result"
    }
   ],
   "source": [
    "using Plots #showing initial data and the initial status of the horizon finder\n",
    "plot((initX[4:L-3]), state_array[4:L-3,1:4], xaxis=\"r\",title=\"Initial Data\", labels=[\"m\" \"beta\" \"wbar\" \"derwbar\"],xlim=[0,1])"
   ]
  },
  {
   "cell_type": "code",
   "execution_count": 39,
   "id": "b2dce676",
   "metadata": {},
   "outputs": [
    {
     "data": {
      "image/svg+xml": [
       "<?xml version=\"1.0\" encoding=\"utf-8\"?>\n",
       "<svg xmlns=\"http://www.w3.org/2000/svg\" xmlns:xlink=\"http://www.w3.org/1999/xlink\" width=\"600\" height=\"400\" viewBox=\"0 0 2400 1600\">\n",
       "<defs>\n",
       "  <clipPath id=\"clip710\">\n",
       "    <rect x=\"0\" y=\"0\" width=\"2400\" height=\"1600\"/>\n",
       "  </clipPath>\n",
       "</defs>\n",
       "<path clip-path=\"url(#clip710)\" d=\"M0 1600 L2400 1600 L2400 0 L0 0  Z\" fill=\"#ffffff\" fill-rule=\"evenodd\" fill-opacity=\"1\"/>\n",
       "<defs>\n",
       "  <clipPath id=\"clip711\">\n",
       "    <rect x=\"480\" y=\"0\" width=\"1681\" height=\"1600\"/>\n",
       "  </clipPath>\n",
       "</defs>\n",
       "<path clip-path=\"url(#clip710)\" d=\"M192.709 1423.18 L2352.76 1423.18 L2352.76 123.472 L192.709 123.472  Z\" fill=\"#ffffff\" fill-rule=\"evenodd\" fill-opacity=\"1\"/>\n",
       "<defs>\n",
       "  <clipPath id=\"clip712\">\n",
       "    <rect x=\"192\" y=\"123\" width=\"2161\" height=\"1301\"/>\n",
       "  </clipPath>\n",
       "</defs>\n",
       "<polyline clip-path=\"url(#clip712)\" style=\"stroke:#000000; stroke-linecap:round; stroke-linejoin:round; stroke-width:2; stroke-opacity:0.1; fill:none\" points=\"192.709,1423.18 192.709,123.472 \"/>\n",
       "<polyline clip-path=\"url(#clip712)\" style=\"stroke:#000000; stroke-linecap:round; stroke-linejoin:round; stroke-width:2; stroke-opacity:0.1; fill:none\" points=\"624.719,1423.18 624.719,123.472 \"/>\n",
       "<polyline clip-path=\"url(#clip712)\" style=\"stroke:#000000; stroke-linecap:round; stroke-linejoin:round; stroke-width:2; stroke-opacity:0.1; fill:none\" points=\"1056.73,1423.18 1056.73,123.472 \"/>\n",
       "<polyline clip-path=\"url(#clip712)\" style=\"stroke:#000000; stroke-linecap:round; stroke-linejoin:round; stroke-width:2; stroke-opacity:0.1; fill:none\" points=\"1488.74,1423.18 1488.74,123.472 \"/>\n",
       "<polyline clip-path=\"url(#clip712)\" style=\"stroke:#000000; stroke-linecap:round; stroke-linejoin:round; stroke-width:2; stroke-opacity:0.1; fill:none\" points=\"1920.75,1423.18 1920.75,123.472 \"/>\n",
       "<polyline clip-path=\"url(#clip712)\" style=\"stroke:#000000; stroke-linecap:round; stroke-linejoin:round; stroke-width:2; stroke-opacity:0.1; fill:none\" points=\"2352.76,1423.18 2352.76,123.472 \"/>\n",
       "<polyline clip-path=\"url(#clip710)\" style=\"stroke:#000000; stroke-linecap:round; stroke-linejoin:round; stroke-width:4; stroke-opacity:1; fill:none\" points=\"192.709,1423.18 2352.76,1423.18 \"/>\n",
       "<polyline clip-path=\"url(#clip710)\" style=\"stroke:#000000; stroke-linecap:round; stroke-linejoin:round; stroke-width:4; stroke-opacity:1; fill:none\" points=\"192.709,1423.18 192.709,1404.28 \"/>\n",
       "<polyline clip-path=\"url(#clip710)\" style=\"stroke:#000000; stroke-linecap:round; stroke-linejoin:round; stroke-width:4; stroke-opacity:1; fill:none\" points=\"624.719,1423.18 624.719,1404.28 \"/>\n",
       "<polyline clip-path=\"url(#clip710)\" style=\"stroke:#000000; stroke-linecap:round; stroke-linejoin:round; stroke-width:4; stroke-opacity:1; fill:none\" points=\"1056.73,1423.18 1056.73,1404.28 \"/>\n",
       "<polyline clip-path=\"url(#clip710)\" style=\"stroke:#000000; stroke-linecap:round; stroke-linejoin:round; stroke-width:4; stroke-opacity:1; fill:none\" points=\"1488.74,1423.18 1488.74,1404.28 \"/>\n",
       "<polyline clip-path=\"url(#clip710)\" style=\"stroke:#000000; stroke-linecap:round; stroke-linejoin:round; stroke-width:4; stroke-opacity:1; fill:none\" points=\"1920.75,1423.18 1920.75,1404.28 \"/>\n",
       "<polyline clip-path=\"url(#clip710)\" style=\"stroke:#000000; stroke-linecap:round; stroke-linejoin:round; stroke-width:4; stroke-opacity:1; fill:none\" points=\"2352.76,1423.18 2352.76,1404.28 \"/>\n",
       "<path clip-path=\"url(#clip710)\" d=\"M170.094 1454.1 Q166.482 1454.1 164.654 1457.66 Q162.848 1461.2 162.848 1468.33 Q162.848 1475.44 164.654 1479.01 Q166.482 1482.55 170.094 1482.55 Q173.728 1482.55 175.533 1479.01 Q177.362 1475.44 177.362 1468.33 Q177.362 1461.2 175.533 1457.66 Q173.728 1454.1 170.094 1454.1 M170.094 1450.39 Q175.904 1450.39 178.959 1455 Q182.038 1459.58 182.038 1468.33 Q182.038 1477.06 178.959 1481.67 Q175.904 1486.25 170.094 1486.25 Q164.283 1486.25 161.205 1481.67 Q158.149 1477.06 158.149 1468.33 Q158.149 1459.58 161.205 1455 Q164.283 1450.39 170.094 1450.39 Z\" fill=\"#000000\" fill-rule=\"evenodd\" fill-opacity=\"1\" /><path clip-path=\"url(#clip710)\" d=\"M190.255 1479.7 L195.14 1479.7 L195.14 1485.58 L190.255 1485.58 L190.255 1479.7 Z\" fill=\"#000000\" fill-rule=\"evenodd\" fill-opacity=\"1\" /><path clip-path=\"url(#clip710)\" d=\"M215.325 1454.1 Q211.714 1454.1 209.885 1457.66 Q208.079 1461.2 208.079 1468.33 Q208.079 1475.44 209.885 1479.01 Q211.714 1482.55 215.325 1482.55 Q218.959 1482.55 220.765 1479.01 Q222.593 1475.44 222.593 1468.33 Q222.593 1461.2 220.765 1457.66 Q218.959 1454.1 215.325 1454.1 M215.325 1450.39 Q221.135 1450.39 224.19 1455 Q227.269 1459.58 227.269 1468.33 Q227.269 1477.06 224.19 1481.67 Q221.135 1486.25 215.325 1486.25 Q209.515 1486.25 206.436 1481.67 Q203.38 1477.06 203.38 1468.33 Q203.38 1459.58 206.436 1455 Q209.515 1450.39 215.325 1450.39 Z\" fill=\"#000000\" fill-rule=\"evenodd\" fill-opacity=\"1\" /><path clip-path=\"url(#clip710)\" d=\"M602.901 1454.1 Q599.29 1454.1 597.462 1457.66 Q595.656 1461.2 595.656 1468.33 Q595.656 1475.44 597.462 1479.01 Q599.29 1482.55 602.901 1482.55 Q606.536 1482.55 608.341 1479.01 Q610.17 1475.44 610.17 1468.33 Q610.17 1461.2 608.341 1457.66 Q606.536 1454.1 602.901 1454.1 M602.901 1450.39 Q608.712 1450.39 611.767 1455 Q614.846 1459.58 614.846 1468.33 Q614.846 1477.06 611.767 1481.67 Q608.712 1486.25 602.901 1486.25 Q597.091 1486.25 594.013 1481.67 Q590.957 1477.06 590.957 1468.33 Q590.957 1459.58 594.013 1455 Q597.091 1450.39 602.901 1450.39 Z\" fill=\"#000000\" fill-rule=\"evenodd\" fill-opacity=\"1\" /><path clip-path=\"url(#clip710)\" d=\"M623.063 1479.7 L627.948 1479.7 L627.948 1485.58 L623.063 1485.58 L623.063 1479.7 Z\" fill=\"#000000\" fill-rule=\"evenodd\" fill-opacity=\"1\" /><path clip-path=\"url(#clip710)\" d=\"M642.161 1481.64 L658.48 1481.64 L658.48 1485.58 L636.536 1485.58 L636.536 1481.64 Q639.198 1478.89 643.781 1474.26 Q648.387 1469.61 649.568 1468.27 Q651.813 1465.74 652.693 1464.01 Q653.596 1462.25 653.596 1460.56 Q653.596 1457.8 651.651 1456.07 Q649.73 1454.33 646.628 1454.33 Q644.429 1454.33 641.975 1455.09 Q639.545 1455.86 636.767 1457.41 L636.767 1452.69 Q639.591 1451.55 642.045 1450.97 Q644.498 1450.39 646.536 1450.39 Q651.906 1450.39 655.1 1453.08 Q658.295 1455.77 658.295 1460.26 Q658.295 1462.39 657.485 1464.31 Q656.697 1466.2 654.591 1468.8 Q654.012 1469.47 650.91 1472.69 Q647.809 1475.88 642.161 1481.64 Z\" fill=\"#000000\" fill-rule=\"evenodd\" fill-opacity=\"1\" /><path clip-path=\"url(#clip710)\" d=\"M1033.87 1454.1 Q1030.26 1454.1 1028.43 1457.66 Q1026.62 1461.2 1026.62 1468.33 Q1026.62 1475.44 1028.43 1479.01 Q1030.26 1482.55 1033.87 1482.55 Q1037.5 1482.55 1039.31 1479.01 Q1041.14 1475.44 1041.14 1468.33 Q1041.14 1461.2 1039.31 1457.66 Q1037.5 1454.1 1033.87 1454.1 M1033.87 1450.39 Q1039.68 1450.39 1042.73 1455 Q1045.81 1459.58 1045.81 1468.33 Q1045.81 1477.06 1042.73 1481.67 Q1039.68 1486.25 1033.87 1486.25 Q1028.06 1486.25 1024.98 1481.67 Q1021.92 1477.06 1021.92 1468.33 Q1021.92 1459.58 1024.98 1455 Q1028.06 1450.39 1033.87 1450.39 Z\" fill=\"#000000\" fill-rule=\"evenodd\" fill-opacity=\"1\" /><path clip-path=\"url(#clip710)\" d=\"M1054.03 1479.7 L1058.92 1479.7 L1058.92 1485.58 L1054.03 1485.58 L1054.03 1479.7 Z\" fill=\"#000000\" fill-rule=\"evenodd\" fill-opacity=\"1\" /><path clip-path=\"url(#clip710)\" d=\"M1081.95 1455.09 L1070.14 1473.54 L1081.95 1473.54 L1081.95 1455.09 M1080.72 1451.02 L1086.6 1451.02 L1086.6 1473.54 L1091.53 1473.54 L1091.53 1477.43 L1086.6 1477.43 L1086.6 1485.58 L1081.95 1485.58 L1081.95 1477.43 L1066.35 1477.43 L1066.35 1472.92 L1080.72 1451.02 Z\" fill=\"#000000\" fill-rule=\"evenodd\" fill-opacity=\"1\" /><path clip-path=\"url(#clip710)\" d=\"M1466.04 1454.1 Q1462.43 1454.1 1460.6 1457.66 Q1458.8 1461.2 1458.8 1468.33 Q1458.8 1475.44 1460.6 1479.01 Q1462.43 1482.55 1466.04 1482.55 Q1469.67 1482.55 1471.48 1479.01 Q1473.31 1475.44 1473.31 1468.33 Q1473.31 1461.2 1471.48 1457.66 Q1469.67 1454.1 1466.04 1454.1 M1466.04 1450.39 Q1471.85 1450.39 1474.91 1455 Q1477.98 1459.58 1477.98 1468.33 Q1477.98 1477.06 1474.91 1481.67 Q1471.85 1486.25 1466.04 1486.25 Q1460.23 1486.25 1457.15 1481.67 Q1454.1 1477.06 1454.1 1468.33 Q1454.1 1459.58 1457.15 1455 Q1460.23 1450.39 1466.04 1450.39 Z\" fill=\"#000000\" fill-rule=\"evenodd\" fill-opacity=\"1\" /><path clip-path=\"url(#clip710)\" d=\"M1486.2 1479.7 L1491.09 1479.7 L1491.09 1485.58 L1486.2 1485.58 L1486.2 1479.7 Z\" fill=\"#000000\" fill-rule=\"evenodd\" fill-opacity=\"1\" /><path clip-path=\"url(#clip710)\" d=\"M1511.85 1466.44 Q1508.7 1466.44 1506.85 1468.59 Q1505.02 1470.74 1505.02 1474.49 Q1505.02 1478.22 1506.85 1480.39 Q1508.7 1482.55 1511.85 1482.55 Q1515 1482.55 1516.83 1480.39 Q1518.68 1478.22 1518.68 1474.49 Q1518.68 1470.74 1516.83 1468.59 Q1515 1466.44 1511.85 1466.44 M1521.13 1451.78 L1521.13 1456.04 Q1519.37 1455.21 1517.57 1454.77 Q1515.79 1454.33 1514.03 1454.33 Q1509.4 1454.33 1506.94 1457.45 Q1504.51 1460.58 1504.17 1466.9 Q1505.53 1464.89 1507.59 1463.82 Q1509.65 1462.73 1512.13 1462.73 Q1517.34 1462.73 1520.35 1465.9 Q1523.38 1469.05 1523.38 1474.49 Q1523.38 1479.82 1520.23 1483.03 Q1517.08 1486.25 1511.85 1486.25 Q1505.86 1486.25 1502.68 1481.67 Q1499.51 1477.06 1499.51 1468.33 Q1499.51 1460.14 1503.4 1455.28 Q1507.29 1450.39 1513.84 1450.39 Q1515.6 1450.39 1517.38 1450.74 Q1519.19 1451.09 1521.13 1451.78 Z\" fill=\"#000000\" fill-rule=\"evenodd\" fill-opacity=\"1\" /><path clip-path=\"url(#clip710)\" d=\"M1898.18 1454.1 Q1894.57 1454.1 1892.74 1457.66 Q1890.93 1461.2 1890.93 1468.33 Q1890.93 1475.44 1892.74 1479.01 Q1894.57 1482.55 1898.18 1482.55 Q1901.81 1482.55 1903.62 1479.01 Q1905.45 1475.44 1905.45 1468.33 Q1905.45 1461.2 1903.62 1457.66 Q1901.81 1454.1 1898.18 1454.1 M1898.18 1450.39 Q1903.99 1450.39 1907.04 1455 Q1910.12 1459.58 1910.12 1468.33 Q1910.12 1477.06 1907.04 1481.67 Q1903.99 1486.25 1898.18 1486.25 Q1892.37 1486.25 1889.29 1481.67 Q1886.23 1477.06 1886.23 1468.33 Q1886.23 1459.58 1889.29 1455 Q1892.37 1450.39 1898.18 1450.39 Z\" fill=\"#000000\" fill-rule=\"evenodd\" fill-opacity=\"1\" /><path clip-path=\"url(#clip710)\" d=\"M1918.34 1479.7 L1923.22 1479.7 L1923.22 1485.58 L1918.34 1485.58 L1918.34 1479.7 Z\" fill=\"#000000\" fill-rule=\"evenodd\" fill-opacity=\"1\" /><path clip-path=\"url(#clip710)\" d=\"M1943.41 1469.17 Q1940.08 1469.17 1938.15 1470.95 Q1936.26 1472.73 1936.26 1475.86 Q1936.26 1478.98 1938.15 1480.77 Q1940.08 1482.55 1943.41 1482.55 Q1946.74 1482.55 1948.66 1480.77 Q1950.58 1478.96 1950.58 1475.86 Q1950.58 1472.73 1948.66 1470.95 Q1946.76 1469.17 1943.41 1469.17 M1938.73 1467.18 Q1935.72 1466.44 1934.03 1464.38 Q1932.37 1462.32 1932.37 1459.35 Q1932.37 1455.21 1935.31 1452.8 Q1938.27 1450.39 1943.41 1450.39 Q1948.57 1450.39 1951.51 1452.8 Q1954.45 1455.21 1954.45 1459.35 Q1954.45 1462.32 1952.76 1464.38 Q1951.09 1466.44 1948.11 1467.18 Q1951.49 1467.96 1953.36 1470.26 Q1955.26 1472.55 1955.26 1475.86 Q1955.26 1480.88 1952.18 1483.57 Q1949.13 1486.25 1943.41 1486.25 Q1937.69 1486.25 1934.61 1483.57 Q1931.56 1480.88 1931.56 1475.86 Q1931.56 1472.55 1933.45 1470.26 Q1935.35 1467.96 1938.73 1467.18 M1937.02 1459.79 Q1937.02 1462.48 1938.69 1463.98 Q1940.38 1465.49 1943.41 1465.49 Q1946.42 1465.49 1948.11 1463.98 Q1949.82 1462.48 1949.82 1459.79 Q1949.82 1457.11 1948.11 1455.6 Q1946.42 1454.1 1943.41 1454.1 Q1940.38 1454.1 1938.69 1455.6 Q1937.02 1457.11 1937.02 1459.79 Z\" fill=\"#000000\" fill-rule=\"evenodd\" fill-opacity=\"1\" /><path clip-path=\"url(#clip710)\" d=\"M2319.91 1481.64 L2327.55 1481.64 L2327.55 1455.28 L2319.24 1456.95 L2319.24 1452.69 L2327.5 1451.02 L2332.18 1451.02 L2332.18 1481.64 L2339.82 1481.64 L2339.82 1485.58 L2319.91 1485.58 L2319.91 1481.64 Z\" fill=\"#000000\" fill-rule=\"evenodd\" fill-opacity=\"1\" /><path clip-path=\"url(#clip710)\" d=\"M2349.26 1479.7 L2354.14 1479.7 L2354.14 1485.58 L2349.26 1485.58 L2349.26 1479.7 Z\" fill=\"#000000\" fill-rule=\"evenodd\" fill-opacity=\"1\" /><path clip-path=\"url(#clip710)\" d=\"M2374.33 1454.1 Q2370.72 1454.1 2368.89 1457.66 Q2367.08 1461.2 2367.08 1468.33 Q2367.08 1475.44 2368.89 1479.01 Q2370.72 1482.55 2374.33 1482.55 Q2377.96 1482.55 2379.77 1479.01 Q2381.6 1475.44 2381.6 1468.33 Q2381.6 1461.2 2379.77 1457.66 Q2377.96 1454.1 2374.33 1454.1 M2374.33 1450.39 Q2380.14 1450.39 2383.2 1455 Q2386.27 1459.58 2386.27 1468.33 Q2386.27 1477.06 2383.2 1481.67 Q2380.14 1486.25 2374.33 1486.25 Q2368.52 1486.25 2365.44 1481.67 Q2362.39 1477.06 2362.39 1468.33 Q2362.39 1459.58 2365.44 1455 Q2368.52 1450.39 2374.33 1450.39 Z\" fill=\"#000000\" fill-rule=\"evenodd\" fill-opacity=\"1\" /><path clip-path=\"url(#clip710)\" d=\"M1283.17 1537.87 Q1282.19 1537.3 1281.01 1537.04 Q1279.86 1536.76 1278.46 1536.76 Q1273.5 1536.76 1270.82 1540 Q1268.18 1543.22 1268.18 1549.27 L1268.18 1568.04 L1262.29 1568.04 L1262.29 1532.4 L1268.18 1532.4 L1268.18 1537.93 Q1270.03 1534.69 1272.99 1533.13 Q1275.95 1531.54 1280.18 1531.54 Q1280.79 1531.54 1281.52 1531.63 Q1282.25 1531.7 1283.14 1531.85 L1283.17 1537.87 Z\" fill=\"#000000\" fill-rule=\"evenodd\" fill-opacity=\"1\" /><polyline clip-path=\"url(#clip712)\" style=\"stroke:#000000; stroke-linecap:round; stroke-linejoin:round; stroke-width:2; stroke-opacity:0.1; fill:none\" points=\"192.709,1313.91 2352.76,1313.91 \"/>\n",
       "<polyline clip-path=\"url(#clip712)\" style=\"stroke:#000000; stroke-linecap:round; stroke-linejoin:round; stroke-width:2; stroke-opacity:0.1; fill:none\" points=\"192.709,1125.83 2352.76,1125.83 \"/>\n",
       "<polyline clip-path=\"url(#clip712)\" style=\"stroke:#000000; stroke-linecap:round; stroke-linejoin:round; stroke-width:2; stroke-opacity:0.1; fill:none\" points=\"192.709,937.741 2352.76,937.741 \"/>\n",
       "<polyline clip-path=\"url(#clip712)\" style=\"stroke:#000000; stroke-linecap:round; stroke-linejoin:round; stroke-width:2; stroke-opacity:0.1; fill:none\" points=\"192.709,749.657 2352.76,749.657 \"/>\n",
       "<polyline clip-path=\"url(#clip712)\" style=\"stroke:#000000; stroke-linecap:round; stroke-linejoin:round; stroke-width:2; stroke-opacity:0.1; fill:none\" points=\"192.709,561.572 2352.76,561.572 \"/>\n",
       "<polyline clip-path=\"url(#clip712)\" style=\"stroke:#000000; stroke-linecap:round; stroke-linejoin:round; stroke-width:2; stroke-opacity:0.1; fill:none\" points=\"192.709,373.487 2352.76,373.487 \"/>\n",
       "<polyline clip-path=\"url(#clip712)\" style=\"stroke:#000000; stroke-linecap:round; stroke-linejoin:round; stroke-width:2; stroke-opacity:0.1; fill:none\" points=\"192.709,185.403 2352.76,185.403 \"/>\n",
       "<polyline clip-path=\"url(#clip710)\" style=\"stroke:#000000; stroke-linecap:round; stroke-linejoin:round; stroke-width:4; stroke-opacity:1; fill:none\" points=\"192.709,1423.18 192.709,123.472 \"/>\n",
       "<polyline clip-path=\"url(#clip710)\" style=\"stroke:#000000; stroke-linecap:round; stroke-linejoin:round; stroke-width:4; stroke-opacity:1; fill:none\" points=\"192.709,1313.91 211.607,1313.91 \"/>\n",
       "<polyline clip-path=\"url(#clip710)\" style=\"stroke:#000000; stroke-linecap:round; stroke-linejoin:round; stroke-width:4; stroke-opacity:1; fill:none\" points=\"192.709,1125.83 211.607,1125.83 \"/>\n",
       "<polyline clip-path=\"url(#clip710)\" style=\"stroke:#000000; stroke-linecap:round; stroke-linejoin:round; stroke-width:4; stroke-opacity:1; fill:none\" points=\"192.709,937.741 211.607,937.741 \"/>\n",
       "<polyline clip-path=\"url(#clip710)\" style=\"stroke:#000000; stroke-linecap:round; stroke-linejoin:round; stroke-width:4; stroke-opacity:1; fill:none\" points=\"192.709,749.657 211.607,749.657 \"/>\n",
       "<polyline clip-path=\"url(#clip710)\" style=\"stroke:#000000; stroke-linecap:round; stroke-linejoin:round; stroke-width:4; stroke-opacity:1; fill:none\" points=\"192.709,561.572 211.607,561.572 \"/>\n",
       "<polyline clip-path=\"url(#clip710)\" style=\"stroke:#000000; stroke-linecap:round; stroke-linejoin:round; stroke-width:4; stroke-opacity:1; fill:none\" points=\"192.709,373.487 211.607,373.487 \"/>\n",
       "<polyline clip-path=\"url(#clip710)\" style=\"stroke:#000000; stroke-linecap:round; stroke-linejoin:round; stroke-width:4; stroke-opacity:1; fill:none\" points=\"192.709,185.403 211.607,185.403 \"/>\n",
       "<path clip-path=\"url(#clip710)\" d=\"M51.3625 1314.36 L81.0383 1314.36 L81.0383 1318.3 L51.3625 1318.3 L51.3625 1314.36 Z\" fill=\"#000000\" fill-rule=\"evenodd\" fill-opacity=\"1\" /><path clip-path=\"url(#clip710)\" d=\"M101.131 1299.71 Q97.5197 1299.71 95.691 1303.27 Q93.8854 1306.82 93.8854 1313.95 Q93.8854 1321.05 95.691 1324.62 Q97.5197 1328.16 101.131 1328.16 Q104.765 1328.16 106.571 1324.62 Q108.399 1321.05 108.399 1313.95 Q108.399 1306.82 106.571 1303.27 Q104.765 1299.71 101.131 1299.71 M101.131 1296.01 Q106.941 1296.01 109.996 1300.61 Q113.075 1305.2 113.075 1313.95 Q113.075 1322.67 109.996 1327.28 Q106.941 1331.86 101.131 1331.86 Q95.3206 1331.86 92.2419 1327.28 Q89.1864 1322.67 89.1864 1313.95 Q89.1864 1305.2 92.2419 1300.61 Q95.3206 1296.01 101.131 1296.01 Z\" fill=\"#000000\" fill-rule=\"evenodd\" fill-opacity=\"1\" /><path clip-path=\"url(#clip710)\" d=\"M121.293 1325.31 L126.177 1325.31 L126.177 1331.19 L121.293 1331.19 L121.293 1325.31 Z\" fill=\"#000000\" fill-rule=\"evenodd\" fill-opacity=\"1\" /><path clip-path=\"url(#clip710)\" d=\"M140.39 1327.26 L156.709 1327.26 L156.709 1331.19 L134.765 1331.19 L134.765 1327.26 Q137.427 1324.5 142.01 1319.87 Q146.617 1315.22 147.797 1313.88 Q150.043 1311.35 150.922 1309.62 Q151.825 1307.86 151.825 1306.17 Q151.825 1303.41 149.88 1301.68 Q147.959 1299.94 144.857 1299.94 Q142.658 1299.94 140.205 1300.7 Q137.774 1301.47 134.996 1303.02 L134.996 1298.3 Q137.82 1297.16 140.274 1296.58 Q142.728 1296.01 144.765 1296.01 Q150.135 1296.01 153.33 1298.69 Q156.524 1301.38 156.524 1305.87 Q156.524 1308 155.714 1309.92 Q154.927 1311.82 152.82 1314.41 Q152.242 1315.08 149.14 1318.3 Q146.038 1321.49 140.39 1327.26 Z\" fill=\"#000000\" fill-rule=\"evenodd\" fill-opacity=\"1\" /><path clip-path=\"url(#clip710)\" d=\"M50.9921 1126.28 L80.6679 1126.28 L80.6679 1130.21 L50.9921 1130.21 L50.9921 1126.28 Z\" fill=\"#000000\" fill-rule=\"evenodd\" fill-opacity=\"1\" /><path clip-path=\"url(#clip710)\" d=\"M100.76 1111.62 Q97.1493 1111.62 95.3206 1115.19 Q93.515 1118.73 93.515 1125.86 Q93.515 1132.97 95.3206 1136.53 Q97.1493 1140.07 100.76 1140.07 Q104.395 1140.07 106.2 1136.53 Q108.029 1132.97 108.029 1125.86 Q108.029 1118.73 106.2 1115.19 Q104.395 1111.62 100.76 1111.62 M100.76 1107.92 Q106.571 1107.92 109.626 1112.53 Q112.705 1117.11 112.705 1125.86 Q112.705 1134.59 109.626 1139.19 Q106.571 1143.78 100.76 1143.78 Q94.9502 1143.78 91.8715 1139.19 Q88.816 1134.59 88.816 1125.86 Q88.816 1117.11 91.8715 1112.53 Q94.9502 1107.92 100.76 1107.92 Z\" fill=\"#000000\" fill-rule=\"evenodd\" fill-opacity=\"1\" /><path clip-path=\"url(#clip710)\" d=\"M120.922 1137.23 L125.807 1137.23 L125.807 1143.11 L120.922 1143.11 L120.922 1137.23 Z\" fill=\"#000000\" fill-rule=\"evenodd\" fill-opacity=\"1\" /><path clip-path=\"url(#clip710)\" d=\"M136.802 1139.17 L144.441 1139.17 L144.441 1112.81 L136.131 1114.47 L136.131 1110.21 L144.394 1108.55 L149.07 1108.55 L149.07 1139.17 L156.709 1139.17 L156.709 1143.11 L136.802 1143.11 L136.802 1139.17 Z\" fill=\"#000000\" fill-rule=\"evenodd\" fill-opacity=\"1\" /><path clip-path=\"url(#clip710)\" d=\"M99.5335 923.54 Q95.9224 923.54 94.0937 927.105 Q92.2882 930.647 92.2882 937.776 Q92.2882 944.883 94.0937 948.447 Q95.9224 951.989 99.5335 951.989 Q103.168 951.989 104.973 948.447 Q106.802 944.883 106.802 937.776 Q106.802 930.647 104.973 927.105 Q103.168 923.54 99.5335 923.54 M99.5335 919.836 Q105.344 919.836 108.399 924.443 Q111.478 929.026 111.478 937.776 Q111.478 946.503 108.399 951.109 Q105.344 955.693 99.5335 955.693 Q93.7234 955.693 90.6447 951.109 Q87.5892 946.503 87.5892 937.776 Q87.5892 929.026 90.6447 924.443 Q93.7234 919.836 99.5335 919.836 Z\" fill=\"#000000\" fill-rule=\"evenodd\" fill-opacity=\"1\" /><path clip-path=\"url(#clip710)\" d=\"M119.695 949.142 L124.58 949.142 L124.58 955.021 L119.695 955.021 L119.695 949.142 Z\" fill=\"#000000\" fill-rule=\"evenodd\" fill-opacity=\"1\" /><path clip-path=\"url(#clip710)\" d=\"M144.765 923.54 Q141.154 923.54 139.325 927.105 Q137.519 930.647 137.519 937.776 Q137.519 944.883 139.325 948.447 Q141.154 951.989 144.765 951.989 Q148.399 951.989 150.205 948.447 Q152.033 944.883 152.033 937.776 Q152.033 930.647 150.205 927.105 Q148.399 923.54 144.765 923.54 M144.765 919.836 Q150.575 919.836 153.63 924.443 Q156.709 929.026 156.709 937.776 Q156.709 946.503 153.63 951.109 Q150.575 955.693 144.765 955.693 Q138.955 955.693 135.876 951.109 Q132.82 946.503 132.82 937.776 Q132.82 929.026 135.876 924.443 Q138.955 919.836 144.765 919.836 Z\" fill=\"#000000\" fill-rule=\"evenodd\" fill-opacity=\"1\" /><path clip-path=\"url(#clip710)\" d=\"M100.76 735.455 Q97.1493 735.455 95.3206 739.02 Q93.515 742.562 93.515 749.691 Q93.515 756.798 95.3206 760.363 Q97.1493 763.904 100.76 763.904 Q104.395 763.904 106.2 760.363 Q108.029 756.798 108.029 749.691 Q108.029 742.562 106.2 739.02 Q104.395 735.455 100.76 735.455 M100.76 731.752 Q106.571 731.752 109.626 736.358 Q112.705 740.941 112.705 749.691 Q112.705 758.418 109.626 763.025 Q106.571 767.608 100.76 767.608 Q94.9502 767.608 91.8715 763.025 Q88.816 758.418 88.816 749.691 Q88.816 740.941 91.8715 736.358 Q94.9502 731.752 100.76 731.752 Z\" fill=\"#000000\" fill-rule=\"evenodd\" fill-opacity=\"1\" /><path clip-path=\"url(#clip710)\" d=\"M120.922 761.057 L125.807 761.057 L125.807 766.937 L120.922 766.937 L120.922 761.057 Z\" fill=\"#000000\" fill-rule=\"evenodd\" fill-opacity=\"1\" /><path clip-path=\"url(#clip710)\" d=\"M136.802 763.002 L144.441 763.002 L144.441 736.636 L136.131 738.303 L136.131 734.043 L144.394 732.377 L149.07 732.377 L149.07 763.002 L156.709 763.002 L156.709 766.937 L136.802 766.937 L136.802 763.002 Z\" fill=\"#000000\" fill-rule=\"evenodd\" fill-opacity=\"1\" /><path clip-path=\"url(#clip710)\" d=\"M101.131 547.371 Q97.5197 547.371 95.691 550.935 Q93.8854 554.477 93.8854 561.607 Q93.8854 568.713 95.691 572.278 Q97.5197 575.82 101.131 575.82 Q104.765 575.82 106.571 572.278 Q108.399 568.713 108.399 561.607 Q108.399 554.477 106.571 550.935 Q104.765 547.371 101.131 547.371 M101.131 543.667 Q106.941 543.667 109.996 548.273 Q113.075 552.857 113.075 561.607 Q113.075 570.334 109.996 574.94 Q106.941 579.523 101.131 579.523 Q95.3206 579.523 92.2419 574.94 Q89.1864 570.334 89.1864 561.607 Q89.1864 552.857 92.2419 548.273 Q95.3206 543.667 101.131 543.667 Z\" fill=\"#000000\" fill-rule=\"evenodd\" fill-opacity=\"1\" /><path clip-path=\"url(#clip710)\" d=\"M121.293 572.972 L126.177 572.972 L126.177 578.852 L121.293 578.852 L121.293 572.972 Z\" fill=\"#000000\" fill-rule=\"evenodd\" fill-opacity=\"1\" /><path clip-path=\"url(#clip710)\" d=\"M140.39 574.917 L156.709 574.917 L156.709 578.852 L134.765 578.852 L134.765 574.917 Q137.427 572.162 142.01 567.533 Q146.617 562.88 147.797 561.537 Q150.043 559.014 150.922 557.278 Q151.825 555.519 151.825 553.829 Q151.825 551.074 149.88 549.338 Q147.959 547.602 144.857 547.602 Q142.658 547.602 140.205 548.366 Q137.774 549.13 134.996 550.681 L134.996 545.959 Q137.82 544.824 140.274 544.246 Q142.728 543.667 144.765 543.667 Q150.135 543.667 153.33 546.352 Q156.524 549.037 156.524 553.528 Q156.524 555.658 155.714 557.579 Q154.927 559.477 152.82 562.07 Q152.242 562.741 149.14 565.959 Q146.038 569.153 140.39 574.917 Z\" fill=\"#000000\" fill-rule=\"evenodd\" fill-opacity=\"1\" /><path clip-path=\"url(#clip710)\" d=\"M100.182 359.286 Q96.5706 359.286 94.7419 362.851 Q92.9363 366.392 92.9363 373.522 Q92.9363 380.628 94.7419 384.193 Q96.5706 387.735 100.182 387.735 Q103.816 387.735 105.621 384.193 Q107.45 380.628 107.45 373.522 Q107.45 366.392 105.621 362.851 Q103.816 359.286 100.182 359.286 M100.182 355.582 Q105.992 355.582 109.047 360.189 Q112.126 364.772 112.126 373.522 Q112.126 382.249 109.047 386.855 Q105.992 391.439 100.182 391.439 Q94.3715 391.439 91.2928 386.855 Q88.2373 382.249 88.2373 373.522 Q88.2373 364.772 91.2928 360.189 Q94.3715 355.582 100.182 355.582 Z\" fill=\"#000000\" fill-rule=\"evenodd\" fill-opacity=\"1\" /><path clip-path=\"url(#clip710)\" d=\"M120.344 384.888 L125.228 384.888 L125.228 390.767 L120.344 390.767 L120.344 384.888 Z\" fill=\"#000000\" fill-rule=\"evenodd\" fill-opacity=\"1\" /><path clip-path=\"url(#clip710)\" d=\"M149.58 372.133 Q152.936 372.851 154.811 375.119 Q156.709 377.388 156.709 380.721 Q156.709 385.837 153.191 388.638 Q149.672 391.439 143.191 391.439 Q141.015 391.439 138.7 390.999 Q136.408 390.582 133.955 389.726 L133.955 385.212 Q135.899 386.346 138.214 386.925 Q140.529 387.503 143.052 387.503 Q147.45 387.503 149.742 385.767 Q152.056 384.031 152.056 380.721 Q152.056 377.666 149.904 375.953 Q147.774 374.216 143.955 374.216 L139.927 374.216 L139.927 370.374 L144.14 370.374 Q147.589 370.374 149.418 369.008 Q151.246 367.619 151.246 365.027 Q151.246 362.365 149.348 360.953 Q147.473 359.517 143.955 359.517 Q142.033 359.517 139.834 359.934 Q137.635 360.351 134.996 361.23 L134.996 357.064 Q137.658 356.323 139.973 355.953 Q142.311 355.582 144.371 355.582 Q149.695 355.582 152.797 358.013 Q155.899 360.42 155.899 364.541 Q155.899 367.411 154.255 369.402 Q152.612 371.369 149.58 372.133 Z\" fill=\"#000000\" fill-rule=\"evenodd\" fill-opacity=\"1\" /><path clip-path=\"url(#clip710)\" d=\"M99.0474 171.201 Q95.4363 171.201 93.6076 174.766 Q91.8021 178.308 91.8021 185.437 Q91.8021 192.544 93.6076 196.109 Q95.4363 199.65 99.0474 199.65 Q102.682 199.65 104.487 196.109 Q106.316 192.544 106.316 185.437 Q106.316 178.308 104.487 174.766 Q102.682 171.201 99.0474 171.201 M99.0474 167.498 Q104.858 167.498 107.913 172.104 Q110.992 176.687 110.992 185.437 Q110.992 194.164 107.913 198.771 Q104.858 203.354 99.0474 203.354 Q93.2373 203.354 90.1586 198.771 Q87.103 194.164 87.103 185.437 Q87.103 176.687 90.1586 172.104 Q93.2373 167.498 99.0474 167.498 Z\" fill=\"#000000\" fill-rule=\"evenodd\" fill-opacity=\"1\" /><path clip-path=\"url(#clip710)\" d=\"M119.209 196.803 L124.094 196.803 L124.094 202.683 L119.209 202.683 L119.209 196.803 Z\" fill=\"#000000\" fill-rule=\"evenodd\" fill-opacity=\"1\" /><path clip-path=\"url(#clip710)\" d=\"M147.126 172.197 L135.32 190.646 L147.126 190.646 L147.126 172.197 M145.899 168.123 L151.779 168.123 L151.779 190.646 L156.709 190.646 L156.709 194.534 L151.779 194.534 L151.779 202.683 L147.126 202.683 L147.126 194.534 L131.524 194.534 L131.524 190.021 L145.899 168.123 Z\" fill=\"#000000\" fill-rule=\"evenodd\" fill-opacity=\"1\" /><path clip-path=\"url(#clip710)\" d=\"M1053.56 12.096 L1061.74 12.096 L1061.74 72.576 L1053.56 72.576 L1053.56 12.096 Z\" fill=\"#000000\" fill-rule=\"evenodd\" fill-opacity=\"1\" /><path clip-path=\"url(#clip710)\" d=\"M1115.42 45.1919 L1115.42 72.576 L1107.96 72.576 L1107.96 45.4349 Q1107.96 38.994 1105.45 35.7938 Q1102.94 32.5936 1097.92 32.5936 Q1091.88 32.5936 1088.4 36.4419 Q1084.91 40.2903 1084.91 46.9338 L1084.91 72.576 L1077.42 72.576 L1077.42 27.2059 L1084.91 27.2059 L1084.91 34.2544 Q1087.59 30.163 1091.19 28.1376 Q1094.84 26.1121 1099.58 26.1121 Q1107.39 26.1121 1111.41 30.9732 Q1115.42 35.7938 1115.42 45.1919 Z\" fill=\"#000000\" fill-rule=\"evenodd\" fill-opacity=\"1\" /><path clip-path=\"url(#clip710)\" d=\"M1130.28 27.2059 L1137.74 27.2059 L1137.74 72.576 L1130.28 72.576 L1130.28 27.2059 M1130.28 9.54393 L1137.74 9.54393 L1137.74 18.9825 L1130.28 18.9825 L1130.28 9.54393 Z\" fill=\"#000000\" fill-rule=\"evenodd\" fill-opacity=\"1\" /><path clip-path=\"url(#clip710)\" d=\"M1160.7 14.324 L1160.7 27.2059 L1176.06 27.2059 L1176.06 32.9987 L1160.7 32.9987 L1160.7 57.6282 Q1160.7 63.1779 1162.2 64.7578 Q1163.74 66.3376 1168.4 66.3376 L1176.06 66.3376 L1176.06 72.576 L1168.4 72.576 Q1159.77 72.576 1156.49 69.3758 Q1153.21 66.1351 1153.21 57.6282 L1153.21 32.9987 L1147.74 32.9987 L1147.74 27.2059 L1153.21 27.2059 L1153.21 14.324 L1160.7 14.324 Z\" fill=\"#000000\" fill-rule=\"evenodd\" fill-opacity=\"1\" /><path clip-path=\"url(#clip710)\" d=\"M1185.86 27.2059 L1193.31 27.2059 L1193.31 72.576 L1185.86 72.576 L1185.86 27.2059 M1185.86 9.54393 L1193.31 9.54393 L1193.31 18.9825 L1185.86 18.9825 L1185.86 9.54393 Z\" fill=\"#000000\" fill-rule=\"evenodd\" fill-opacity=\"1\" /><path clip-path=\"url(#clip710)\" d=\"M1229.53 49.7694 Q1220.5 49.7694 1217.01 51.8354 Q1213.53 53.9013 1213.53 58.8839 Q1213.53 62.8538 1216.12 65.2034 Q1218.75 67.5124 1223.25 67.5124 Q1229.45 67.5124 1233.18 63.1374 Q1236.94 58.7219 1236.94 51.4303 L1236.94 49.7694 L1229.53 49.7694 M1244.4 46.6907 L1244.4 72.576 L1236.94 72.576 L1236.94 65.6895 Q1234.39 69.8214 1230.58 71.8063 Q1226.78 73.7508 1221.27 73.7508 Q1214.3 73.7508 1210.17 69.8619 Q1206.07 65.9325 1206.07 59.3701 Q1206.07 51.7138 1211.18 47.825 Q1216.32 43.9361 1226.49 43.9361 L1236.94 43.9361 L1236.94 43.2069 Q1236.94 38.0623 1233.54 35.2672 Q1230.18 32.4315 1224.06 32.4315 Q1220.17 32.4315 1216.49 33.3632 Q1212.8 34.295 1209.4 36.1584 L1209.4 29.2718 Q1213.49 27.692 1217.34 26.9223 Q1221.18 26.1121 1224.83 26.1121 Q1234.67 26.1121 1239.54 31.2163 Q1244.4 36.3204 1244.4 46.6907 Z\" fill=\"#000000\" fill-rule=\"evenodd\" fill-opacity=\"1\" /><path clip-path=\"url(#clip710)\" d=\"M1259.75 9.54393 L1267.2 9.54393 L1267.2 72.576 L1259.75 72.576 L1259.75 9.54393 Z\" fill=\"#000000\" fill-rule=\"evenodd\" fill-opacity=\"1\" /><path clip-path=\"url(#clip710)\" d=\"M1317.68 18.8205 L1317.68 65.8515 L1327.56 65.8515 Q1340.08 65.8515 1345.87 60.1802 Q1351.7 54.509 1351.7 42.2752 Q1351.7 30.1225 1345.87 24.4918 Q1340.08 18.8205 1327.56 18.8205 L1317.68 18.8205 M1309.49 12.096 L1326.31 12.096 Q1343.89 12.096 1352.11 19.4281 Q1360.33 26.7198 1360.33 42.2752 Q1360.33 57.9117 1352.07 65.2439 Q1343.81 72.576 1326.31 72.576 L1309.49 72.576 L1309.49 12.096 Z\" fill=\"#000000\" fill-rule=\"evenodd\" fill-opacity=\"1\" /><path clip-path=\"url(#clip710)\" d=\"M1393.67 49.7694 Q1384.64 49.7694 1381.15 51.8354 Q1377.67 53.9013 1377.67 58.8839 Q1377.67 62.8538 1380.26 65.2034 Q1382.9 67.5124 1387.39 67.5124 Q1393.59 67.5124 1397.32 63.1374 Q1401.09 58.7219 1401.09 51.4303 L1401.09 49.7694 L1393.67 49.7694 M1408.54 46.6907 L1408.54 72.576 L1401.09 72.576 L1401.09 65.6895 Q1398.53 69.8214 1394.73 71.8063 Q1390.92 73.7508 1385.41 73.7508 Q1378.44 73.7508 1374.31 69.8619 Q1370.22 65.9325 1370.22 59.3701 Q1370.22 51.7138 1375.32 47.825 Q1380.47 43.9361 1390.63 43.9361 L1401.09 43.9361 L1401.09 43.2069 Q1401.09 38.0623 1397.68 35.2672 Q1394.32 32.4315 1388.2 32.4315 Q1384.31 32.4315 1380.63 33.3632 Q1376.94 34.295 1373.54 36.1584 L1373.54 29.2718 Q1377.63 27.692 1381.48 26.9223 Q1385.33 26.1121 1388.97 26.1121 Q1398.82 26.1121 1403.68 31.2163 Q1408.54 36.3204 1408.54 46.6907 Z\" fill=\"#000000\" fill-rule=\"evenodd\" fill-opacity=\"1\" /><path clip-path=\"url(#clip710)\" d=\"M1431.26 14.324 L1431.26 27.2059 L1446.62 27.2059 L1446.62 32.9987 L1431.26 32.9987 L1431.26 57.6282 Q1431.26 63.1779 1432.76 64.7578 Q1434.3 66.3376 1438.96 66.3376 L1446.62 66.3376 L1446.62 72.576 L1438.96 72.576 Q1430.33 72.576 1427.05 69.3758 Q1423.77 66.1351 1423.77 57.6282 L1423.77 32.9987 L1418.3 32.9987 L1418.3 27.2059 L1423.77 27.2059 L1423.77 14.324 L1431.26 14.324 Z\" fill=\"#000000\" fill-rule=\"evenodd\" fill-opacity=\"1\" /><path clip-path=\"url(#clip710)\" d=\"M1477.04 49.7694 Q1468.01 49.7694 1464.52 51.8354 Q1461.04 53.9013 1461.04 58.8839 Q1461.04 62.8538 1463.63 65.2034 Q1466.26 67.5124 1470.76 67.5124 Q1476.96 67.5124 1480.69 63.1374 Q1484.45 58.7219 1484.45 51.4303 L1484.45 49.7694 L1477.04 49.7694 M1491.91 46.6907 L1491.91 72.576 L1484.45 72.576 L1484.45 65.6895 Q1481.9 69.8214 1478.09 71.8063 Q1474.29 73.7508 1468.78 73.7508 Q1461.81 73.7508 1457.68 69.8619 Q1453.59 65.9325 1453.59 59.3701 Q1453.59 51.7138 1458.69 47.825 Q1463.83 43.9361 1474 43.9361 L1484.45 43.9361 L1484.45 43.2069 Q1484.45 38.0623 1481.05 35.2672 Q1477.69 32.4315 1471.57 32.4315 Q1467.68 32.4315 1464 33.3632 Q1460.31 34.295 1456.91 36.1584 L1456.91 29.2718 Q1461 27.692 1464.85 26.9223 Q1468.7 26.1121 1472.34 26.1121 Q1482.18 26.1121 1487.05 31.2163 Q1491.91 36.3204 1491.91 46.6907 Z\" fill=\"#000000\" fill-rule=\"evenodd\" fill-opacity=\"1\" /><polyline clip-path=\"url(#clip712)\" style=\"stroke:#009af9; stroke-linecap:round; stroke-linejoin:round; stroke-width:4; stroke-opacity:1; fill:none\" points=\"192.709,937.741 203.509,937.741 214.31,937.741 225.11,937.741 235.91,937.741 246.71,937.741 257.511,937.741 268.311,937.741 279.111,937.741 289.911,937.741 300.711,937.741 311.512,937.741 322.312,937.741 333.112,937.741 343.912,937.741 354.713,937.741 365.513,937.741 376.313,937.741 387.113,937.741 397.914,937.741 408.714,937.741 419.514,937.741 430.314,937.741 441.115,937.74 451.915,937.74 462.715,937.739 473.515,937.739 484.315,937.737 495.116,937.736 505.916,937.733 516.716,937.73 527.516,937.725 538.317,937.719 549.117,937.709 559.917,937.696 570.717,937.679 581.518,937.654 592.318,937.621 603.118,937.575 613.918,937.513 624.719,937.428 635.519,937.314 646.319,937.161 657.119,936.957 667.919,936.686 678.72,936.328 689.52,935.858 700.32,935.245 711.12,934.451 721.921,933.429 732.721,932.125 743.521,930.474 754.321,928.401 765.122,925.823 775.922,922.648 786.722,918.78 797.522,914.12 808.322,908.574 819.123,902.056 829.923,894.5 840.723,885.868 851.523,876.153 862.324,865.395 873.124,853.68 883.924,841.141 894.724,827.964 905.525,814.374 916.325,800.628 927.125,787.001 937.925,773.775 948.726,761.213 959.526,749.551 970.326,738.972 981.126,729.594 991.926,721.451 1002.73,714.476 1013.53,708.492 1024.33,703.21 1035.13,698.24 1045.93,693.126 1056.73,687.388 1067.53,680.599 1078.33,672.448 1089.13,662.8 1099.93,651.73 1110.73,639.512 1121.53,626.577 1132.33,613.445 1143.13,600.654 1153.93,588.686 1164.73,577.92 1175.53,568.607 1186.33,560.861 1197.13,554.672 1207.93,549.927 1218.73,546.445 1229.53,544.001 1240.33,542.367 1251.13,541.327 1261.93,540.699 1272.73,540.34 1283.53,540.146 1294.33,540.048 1305.13,540.001 1315.93,539.98 1326.73,539.972 1337.53,539.968 1348.33,539.967 1359.13,539.967 1369.93,539.966 1380.73,539.966 1391.54,539.966 1402.34,539.966 1413.14,539.966 1423.94,539.966 1434.74,539.966 1445.54,539.966 1456.34,539.966 1467.14,539.966 1477.94,539.966 1488.74,539.966 1499.54,539.966 1510.34,539.966 1521.14,539.966 1531.94,539.966 1542.74,539.966 1553.54,539.966 1564.34,539.966 1575.14,539.966 1585.94,539.966 1596.74,539.966 1607.54,539.966 1618.34,539.966 1629.14,539.966 1639.94,539.966 1650.74,539.966 1661.54,539.966 1672.34,539.966 1683.14,539.966 1693.94,539.966 1704.74,539.966 1715.54,539.966 1726.34,539.966 1737.14,539.966 1747.94,539.966 1758.74,539.966 1769.54,539.966 1780.34,539.966 1791.14,539.966 1801.94,539.966 1812.74,539.966 1823.54,539.966 1834.34,539.966 1845.14,539.966 1855.95,539.966 1866.75,539.966 1877.55,539.966 1888.35,539.966 1899.15,539.966 1909.95,539.966 1920.75,539.966 1931.55,539.966 1942.35,539.966 1953.15,539.966 1963.95,539.966 1974.75,539.966 1985.55,539.966 1996.35,539.966 2007.15,539.966 2017.95,539.966 2028.75,539.966 2039.55,539.966 2050.35,539.966 2061.15,539.966 2071.95,539.966 2082.75,539.966 2093.55,539.966 2104.35,539.966 2115.15,539.966 2125.95,539.966 2136.75,539.966 2147.55,539.966 2158.35,539.966 2169.15,539.966 2179.95,539.966 2190.75,539.966 2201.55,539.966 2212.35,539.966 2223.15,539.966 2233.95,539.966 2244.75,539.966 2255.55,539.966 2266.35,539.966 2277.15,539.966 2287.95,539.966 2298.75,539.966 2309.55,539.966 2320.36,539.966 2331.16,539.966 2341.96,539.966 2352.76,539.966 \"/>\n",
       "<polyline clip-path=\"url(#clip712)\" style=\"stroke:#e26f46; stroke-linecap:round; stroke-linejoin:round; stroke-width:4; stroke-opacity:1; fill:none\" points=\"192.709,937.741 203.509,937.741 214.31,937.741 225.11,937.741 235.91,937.741 246.71,937.741 257.511,937.741 268.311,937.741 279.111,937.741 289.911,937.741 300.711,937.741 311.512,937.741 322.312,937.741 333.112,937.741 343.912,937.741 354.713,937.741 365.513,937.741 376.313,937.74 387.113,937.74 397.914,937.739 408.714,937.739 419.514,937.738 430.314,937.736 441.115,937.734 451.915,937.731 462.715,937.727 473.515,937.722 484.315,937.715 495.116,937.705 505.916,937.692 516.716,937.674 527.516,937.65 538.317,937.617 549.117,937.573 559.917,937.514 570.717,937.435 581.518,937.33 592.318,937.19 603.118,937.005 613.918,936.761 624.719,936.44 635.519,936.019 646.319,935.472 657.119,934.762 667.919,933.845 678.72,932.667 689.52,931.163 700.32,929.253 711.12,926.841 721.921,923.815 732.721,920.046 743.521,915.384 754.321,909.66 765.122,902.691 775.922,894.279 786.722,884.216 797.522,872.295 808.322,858.322 819.123,842.124 829.923,823.571 840.723,802.59 851.523,779.193 862.324,753.49 873.124,725.71 883.924,696.217 894.724,665.515 905.525,634.239 916.325,603.147 927.125,573.077 937.925,544.901 948.726,519.458 959.526,497.482 970.326,479.516 981.126,465.834 991.926,456.385 1002.73,450.751 1013.53,448.151 1024.33,447.484 1035.13,447.42 1045.93,446.525 1056.73,443.421 1067.53,436.941 1078.33,426.281 1089.13,411.099 1099.93,391.568 1110.73,368.348 1121.53,342.497 1132.33,315.329 1143.13,288.237 1153.93,262.523 1164.73,239.245 1175.53,219.128 1186.33,202.524 1197.13,189.437 1207.93,179.592 1218.73,172.529 1229.53,167.703 1240.33,164.566 1251.13,162.63 1261.93,161.498 1272.73,160.871 1283.53,160.544 1294.33,160.383 1305.13,160.309 1315.93,160.277 1326.73,160.264 1337.53,160.259 1348.33,160.257 1359.13,160.257 1369.93,160.256 1380.73,160.256 1391.54,160.256 1402.34,160.256 1413.14,160.256 1423.94,160.256 1434.74,160.256 1445.54,160.256 1456.34,160.256 1467.14,160.256 1477.94,160.256 1488.74,160.256 1499.54,160.256 1510.34,160.256 1521.14,160.256 1531.94,160.256 1542.74,160.256 1553.54,160.256 1564.34,160.256 1575.14,160.256 1585.94,160.256 1596.74,160.256 1607.54,160.256 1618.34,160.256 1629.14,160.256 1639.94,160.256 1650.74,160.256 1661.54,160.256 1672.34,160.256 1683.14,160.256 1693.94,160.256 1704.74,160.256 1715.54,160.256 1726.34,160.256 1737.14,160.256 1747.94,160.256 1758.74,160.256 1769.54,160.256 1780.34,160.256 1791.14,160.256 1801.94,160.256 1812.74,160.256 1823.54,160.256 1834.34,160.256 1845.14,160.256 1855.95,160.256 1866.75,160.256 1877.55,160.256 1888.35,160.256 1899.15,160.256 1909.95,160.256 1920.75,160.256 1931.55,160.256 1942.35,160.256 1953.15,160.256 1963.95,160.256 1974.75,160.256 1985.55,160.256 1996.35,160.256 2007.15,160.256 2017.95,160.256 2028.75,160.256 2039.55,160.256 2050.35,160.256 2061.15,160.256 2071.95,160.256 2082.75,160.256 2093.55,160.256 2104.35,160.256 2115.15,160.256 2125.95,160.256 2136.75,160.256 2147.55,160.256 2158.35,160.256 2169.15,160.256 2179.95,160.256 2190.75,160.256 2201.55,160.256 2212.35,160.256 2223.15,160.256 2233.95,160.256 2244.75,160.256 2255.55,160.256 2266.35,160.256 2277.15,160.256 2287.95,160.256 2298.75,160.256 2309.55,160.256 2320.36,160.256 2331.16,160.256 2341.96,160.256 2352.76,160.256 \"/>\n",
       "<polyline clip-path=\"url(#clip712)\" style=\"stroke:#3da44d; stroke-linecap:round; stroke-linejoin:round; stroke-width:4; stroke-opacity:1; fill:none\" points=\"192.709,937.741 203.509,937.741 214.31,937.741 225.11,937.741 235.91,937.741 246.71,937.74 257.511,937.74 268.311,937.739 279.111,937.739 289.911,937.738 300.711,937.737 311.512,937.735 322.312,937.733 333.112,937.731 343.912,937.729 354.713,937.725 365.513,937.721 376.313,937.716 387.113,937.71 397.914,937.703 408.714,937.694 419.514,937.684 430.314,937.671 441.115,937.655 451.915,937.636 462.715,937.613 473.515,937.586 484.315,937.553 495.116,937.513 505.916,937.466 516.716,937.41 527.516,937.342 538.317,937.262 549.117,937.167 559.917,937.053 570.717,936.919 581.518,936.761 592.318,936.574 603.118,936.354 613.918,936.096 624.719,935.793 635.519,935.439 646.319,935.026 657.119,934.545 667.919,933.987 678.72,933.342 689.52,932.596 700.32,931.739 711.12,930.756 721.921,929.633 732.721,928.353 743.521,926.901 754.321,925.26 765.122,923.413 775.922,921.344 786.722,919.035 797.522,916.474 808.322,913.646 819.123,910.542 829.923,907.156 840.723,903.485 851.523,899.535 862.324,895.314 873.124,890.843 883.924,886.148 894.724,881.266 905.525,876.246 916.325,871.146 927.125,866.035 937.925,860.995 948.726,856.116 959.526,851.497 970.326,847.243 981.126,843.463 991.926,840.265 1002.73,837.756 1013.53,836.03 1024.33,835.171 1035.13,835.243 1045.93,836.291 1056.73,838.329 1067.53,841.344 1078.33,845.292 1089.13,850.096 1099.93,855.651 1110.73,861.824 1121.53,868.463 1132.33,875.4 1143.13,882.459 1153.93,889.469 1164.73,896.266 1175.53,902.706 1186.33,908.669 1197.13,914.065 1207.93,918.836 1218.73,922.954 1229.53,926.424 1240.33,929.276 1251.13,931.559 1261.93,933.339 1272.73,934.689 1283.53,935.684 1294.33,936.394 1305.13,936.887 1315.93,937.216 1326.73,937.43 1337.53,937.563 1348.33,937.643 1359.13,937.69 1369.93,937.715 1380.73,937.729 1391.54,937.736 1402.34,937.739 1413.14,937.74 1423.94,937.741 1434.74,937.741 1445.54,937.741 1456.34,937.741 1467.14,937.741 1477.94,937.741 1488.74,937.741 1499.54,937.741 1510.34,937.741 1521.14,937.741 1531.94,937.741 1542.74,937.741 1553.54,937.741 1564.34,937.741 1575.14,937.741 1585.94,937.741 1596.74,937.741 1607.54,937.741 1618.34,937.741 1629.14,937.741 1639.94,937.741 1650.74,937.741 1661.54,937.741 1672.34,937.741 1683.14,937.741 1693.94,937.741 1704.74,937.741 1715.54,937.741 1726.34,937.741 1737.14,937.741 1747.94,937.741 1758.74,937.741 1769.54,937.741 1780.34,937.741 1791.14,937.741 1801.94,937.741 1812.74,937.741 1823.54,937.741 1834.34,937.741 1845.14,937.741 1855.95,937.741 1866.75,937.741 1877.55,937.741 1888.35,937.741 1899.15,937.741 1909.95,937.741 1920.75,937.741 1931.55,937.741 1942.35,937.741 1953.15,937.741 1963.95,937.741 1974.75,937.741 1985.55,937.741 1996.35,937.741 2007.15,937.741 2017.95,937.741 2028.75,937.741 2039.55,937.741 2050.35,937.741 2061.15,937.741 2071.95,937.741 2082.75,937.741 2093.55,937.741 2104.35,937.741 2115.15,937.741 2125.95,937.741 2136.75,937.741 2147.55,937.741 2158.35,937.741 2169.15,937.741 2179.95,937.741 2190.75,937.741 2201.55,937.741 2212.35,937.741 2223.15,937.741 2233.95,937.741 2244.75,937.741 2255.55,937.741 2266.35,937.741 2277.15,937.741 2287.95,937.741 2298.75,937.741 2309.55,937.741 2320.36,937.741 2331.16,937.741 2341.96,937.741 2352.76,937.741 \"/>\n",
       "<polyline clip-path=\"url(#clip712)\" style=\"stroke:#c271d2; stroke-linecap:round; stroke-linejoin:round; stroke-width:4; stroke-opacity:1; fill:none\" points=\"192.709,937.721 203.509,937.714 214.31,937.705 225.11,937.695 235.91,937.682 246.71,937.666 257.511,937.646 268.311,937.622 279.111,937.593 289.911,937.557 300.711,937.514 311.512,937.462 322.312,937.4 333.112,937.324 343.912,937.234 354.713,937.125 365.513,936.995 376.313,936.839 387.113,936.653 397.914,936.431 408.714,936.168 419.514,935.855 430.314,935.484 441.115,935.046 451.915,934.527 462.715,933.915 473.515,933.195 484.315,932.349 495.116,931.356 505.916,930.193 516.716,928.834 527.516,927.25 538.317,925.407 549.117,923.267 559.917,920.788 570.717,917.924 581.518,914.623 592.318,910.829 603.118,906.48 613.918,901.51 624.719,895.849 635.519,889.421 646.319,882.148 657.119,873.95 667.919,864.747 678.72,854.458 689.52,843.008 700.32,830.328 711.12,816.359 721.921,801.058 732.721,784.399 743.521,766.384 754.321,747.045 765.122,726.451 775.922,704.718 786.722,682.012 797.522,658.559 808.322,634.651 819.123,610.65 829.923,586.991 840.723,564.188 851.523,542.827 862.324,523.567 873.124,507.124 883.924,494.264 894.724,485.779 905.525,482.464 916.325,485.083 927.125,494.338 937.925,510.827 948.726,534.996 959.526,567.104 970.326,607.17 981.126,654.946 991.926,709.879 1002.73,771.098 1013.53,837.411 1024.33,907.32 1035.13,979.059 1045.93,1050.65 1056.73,1120 1067.53,1184.95 1078.33,1243.45 1089.13,1293.62 1099.93,1333.91 1110.73,1363.15 1121.53,1380.69 1132.33,1386.4 1143.13,1380.72 1153.93,1364.61 1164.73,1339.51 1175.53,1307.2 1186.33,1269.71 1197.13,1229.13 1207.93,1187.52 1218.73,1146.73 1229.53,1108.3 1240.33,1073.41 1251.13,1042.83 1261.93,1016.93 1272.73,995.733 1283.53,978.958 1294.33,966.136 1305.13,956.676 1315.93,949.944 1326.73,945.329 1337.53,942.286 1348.33,940.358 1359.13,939.187 1369.93,938.506 1380.73,938.128 1391.54,937.927 1402.34,937.826 1413.14,937.778 1423.94,937.757 1434.74,937.747 1445.54,937.744 1456.34,937.742 1467.14,937.742 1477.94,937.742 1488.74,937.741 1499.54,937.741 1510.34,937.741 1521.14,937.741 1531.94,937.741 1542.74,937.741 1553.54,937.741 1564.34,937.741 1575.14,937.741 1585.94,937.741 1596.74,937.741 1607.54,937.741 1618.34,937.741 1629.14,937.741 1639.94,937.741 1650.74,937.741 1661.54,937.741 1672.34,937.741 1683.14,937.741 1693.94,937.741 1704.74,937.741 1715.54,937.741 1726.34,937.741 1737.14,937.741 1747.94,937.741 1758.74,937.741 1769.54,937.741 1780.34,937.741 1791.14,937.741 1801.94,937.741 1812.74,937.741 1823.54,937.741 1834.34,937.741 1845.14,937.741 1855.95,937.741 1866.75,937.741 1877.55,937.741 1888.35,937.741 1899.15,937.741 1909.95,937.741 1920.75,937.741 1931.55,937.741 1942.35,937.741 1953.15,937.741 1963.95,937.741 1974.75,937.741 1985.55,937.741 1996.35,937.741 2007.15,937.741 2017.95,937.741 2028.75,937.741 2039.55,937.741 2050.35,937.741 2061.15,937.741 2071.95,937.741 2082.75,937.741 2093.55,937.741 2104.35,937.741 2115.15,937.741 2125.95,937.741 2136.75,937.741 2147.55,937.741 2158.35,937.741 2169.15,937.741 2179.95,937.741 2190.75,937.741 2201.55,937.741 2212.35,937.741 2223.15,937.741 2233.95,937.741 2244.75,937.741 2255.55,937.741 2266.35,937.741 2277.15,937.741 2287.95,937.741 2298.75,937.741 2309.55,937.741 2320.36,937.741 2331.16,937.741 2341.96,937.741 2352.76,937.741 \"/>\n",
       "<path clip-path=\"url(#clip710)\" d=\"M264.711 425.996 L674.256 425.996 L674.256 166.796 L264.711 166.796  Z\" fill=\"#ffffff\" fill-rule=\"evenodd\" fill-opacity=\"1\"/>\n",
       "<polyline clip-path=\"url(#clip710)\" style=\"stroke:#000000; stroke-linecap:round; stroke-linejoin:round; stroke-width:4; stroke-opacity:1; fill:none\" points=\"264.711,425.996 674.256,425.996 674.256,166.796 264.711,166.796 264.711,425.996 \"/>\n",
       "<polyline clip-path=\"url(#clip710)\" style=\"stroke:#009af9; stroke-linecap:round; stroke-linejoin:round; stroke-width:4; stroke-opacity:1; fill:none\" points=\"288.711,218.636 432.714,218.636 \"/>\n",
       "<path clip-path=\"url(#clip710)\" d=\"M477.062 214.967 Q478.659 212.096 480.881 210.731 Q483.104 209.365 486.113 209.365 Q490.164 209.365 492.363 212.212 Q494.562 215.036 494.562 220.268 L494.562 235.916 L490.28 235.916 L490.28 220.407 Q490.28 216.68 488.96 214.874 Q487.641 213.069 484.932 213.069 Q481.622 213.069 479.701 215.268 Q477.78 217.467 477.78 221.263 L477.78 235.916 L473.497 235.916 L473.497 220.407 Q473.497 216.657 472.178 214.874 Q470.858 213.069 468.104 213.069 Q464.84 213.069 462.919 215.291 Q460.997 217.49 460.997 221.263 L460.997 235.916 L456.715 235.916 L456.715 209.99 L460.997 209.99 L460.997 214.018 Q462.456 211.633 464.493 210.499 Q466.53 209.365 469.331 209.365 Q472.155 209.365 474.122 210.8 Q476.113 212.235 477.062 214.967 Z\" fill=\"#000000\" fill-rule=\"evenodd\" fill-opacity=\"1\" /><polyline clip-path=\"url(#clip710)\" style=\"stroke:#e26f46; stroke-linecap:round; stroke-linejoin:round; stroke-width:4; stroke-opacity:1; fill:none\" points=\"288.711,270.476 432.714,270.476 \"/>\n",
       "<path clip-path=\"url(#clip710)\" d=\"M475.488 274.816 Q475.488 270.117 473.543 267.455 Q471.622 264.77 468.243 264.77 Q464.863 264.77 462.919 267.455 Q460.997 270.117 460.997 274.816 Q460.997 279.515 462.919 282.2 Q464.863 284.862 468.243 284.862 Q471.622 284.862 473.543 282.2 Q475.488 279.515 475.488 274.816 M460.997 265.765 Q462.34 263.45 464.377 262.339 Q466.437 261.205 469.284 261.205 Q474.006 261.205 476.946 264.955 Q479.909 268.705 479.909 274.816 Q479.909 280.927 476.946 284.677 Q474.006 288.427 469.284 288.427 Q466.437 288.427 464.377 287.316 Q462.34 286.182 460.997 283.867 L460.997 287.756 L456.715 287.756 L456.715 251.737 L460.997 251.737 L460.997 265.765 Z\" fill=\"#000000\" fill-rule=\"evenodd\" fill-opacity=\"1\" /><path clip-path=\"url(#clip710)\" d=\"M509.145 273.728 L509.145 275.811 L489.562 275.811 Q489.84 280.209 492.201 282.524 Q494.585 284.816 498.821 284.816 Q501.275 284.816 503.566 284.214 Q505.881 283.612 508.15 282.409 L508.15 286.436 Q505.858 287.408 503.451 287.918 Q501.043 288.427 498.566 288.427 Q492.363 288.427 488.729 284.816 Q485.117 281.205 485.117 275.047 Q485.117 268.682 488.543 264.955 Q491.992 261.205 497.826 261.205 Q503.057 261.205 506.09 264.585 Q509.145 267.941 509.145 273.728 M504.886 272.478 Q504.84 268.983 502.918 266.899 Q501.02 264.816 497.872 264.816 Q494.307 264.816 492.154 266.83 Q490.025 268.844 489.701 272.501 L504.886 272.478 Z\" fill=\"#000000\" fill-rule=\"evenodd\" fill-opacity=\"1\" /><path clip-path=\"url(#clip710)\" d=\"M520.349 254.469 L520.349 261.83 L529.122 261.83 L529.122 265.14 L520.349 265.14 L520.349 279.214 Q520.349 282.385 521.205 283.288 Q522.085 284.191 524.747 284.191 L529.122 284.191 L529.122 287.756 L524.747 287.756 Q519.816 287.756 517.941 285.927 Q516.066 284.075 516.066 279.214 L516.066 265.14 L512.941 265.14 L512.941 261.83 L516.066 261.83 L516.066 254.469 L520.349 254.469 Z\" fill=\"#000000\" fill-rule=\"evenodd\" fill-opacity=\"1\" /><path clip-path=\"url(#clip710)\" d=\"M546.506 274.723 Q541.344 274.723 539.353 275.904 Q537.363 277.084 537.363 279.932 Q537.363 282.2 538.844 283.543 Q540.349 284.862 542.918 284.862 Q546.46 284.862 548.589 282.362 Q550.742 279.839 550.742 275.672 L550.742 274.723 L546.506 274.723 M555.001 272.964 L555.001 287.756 L550.742 287.756 L550.742 283.821 Q549.284 286.182 547.108 287.316 Q544.932 288.427 541.784 288.427 Q537.802 288.427 535.441 286.205 Q533.103 283.959 533.103 280.209 Q533.103 275.834 536.02 273.612 Q538.96 271.39 544.77 271.39 L550.742 271.39 L550.742 270.973 Q550.742 268.034 548.798 266.436 Q546.876 264.816 543.381 264.816 Q541.159 264.816 539.052 265.348 Q536.946 265.881 535.001 266.946 L535.001 263.01 Q537.339 262.108 539.538 261.668 Q541.738 261.205 543.821 261.205 Q549.446 261.205 552.224 264.122 Q555.001 267.038 555.001 272.964 Z\" fill=\"#000000\" fill-rule=\"evenodd\" fill-opacity=\"1\" /><polyline clip-path=\"url(#clip710)\" style=\"stroke:#3da44d; stroke-linecap:round; stroke-linejoin:round; stroke-width:4; stroke-opacity:1; fill:none\" points=\"288.711,322.316 432.714,322.316 \"/>\n",
       "<path clip-path=\"url(#clip710)\" d=\"M456.715 313.67 L460.974 313.67 L466.298 333.901 L471.599 313.67 L476.622 313.67 L481.946 333.901 L487.247 313.67 L491.506 313.67 L484.724 339.596 L479.701 339.596 L474.122 318.346 L468.52 339.596 L463.497 339.596 L456.715 313.67 Z\" fill=\"#000000\" fill-rule=\"evenodd\" fill-opacity=\"1\" /><path clip-path=\"url(#clip710)\" d=\"M516.576 326.656 Q516.576 321.957 514.631 319.295 Q512.71 316.61 509.33 316.61 Q505.951 316.61 504.006 319.295 Q502.085 321.957 502.085 326.656 Q502.085 331.355 504.006 334.04 Q505.951 336.702 509.33 336.702 Q512.71 336.702 514.631 334.04 Q516.576 331.355 516.576 326.656 M502.085 317.605 Q503.428 315.29 505.465 314.179 Q507.525 313.045 510.372 313.045 Q515.094 313.045 518.034 316.795 Q520.997 320.545 520.997 326.656 Q520.997 332.767 518.034 336.517 Q515.094 340.267 510.372 340.267 Q507.525 340.267 505.465 339.156 Q503.428 338.022 502.085 335.707 L502.085 339.596 L497.803 339.596 L497.803 303.577 L502.085 303.577 L502.085 317.605 Z\" fill=\"#000000\" fill-rule=\"evenodd\" fill-opacity=\"1\" /><path clip-path=\"url(#clip710)\" d=\"M539.839 326.563 Q534.677 326.563 532.687 327.744 Q530.696 328.924 530.696 331.772 Q530.696 334.04 532.177 335.383 Q533.682 336.702 536.251 336.702 Q539.793 336.702 541.923 334.202 Q544.076 331.679 544.076 327.512 L544.076 326.563 L539.839 326.563 M548.335 324.804 L548.335 339.596 L544.076 339.596 L544.076 335.661 Q542.617 338.022 540.441 339.156 Q538.265 340.267 535.117 340.267 Q531.136 340.267 528.775 338.045 Q526.437 335.799 526.437 332.049 Q526.437 327.674 529.353 325.452 Q532.293 323.23 538.103 323.23 L544.076 323.23 L544.076 322.813 Q544.076 319.874 542.131 318.276 Q540.21 316.656 536.714 316.656 Q534.492 316.656 532.386 317.188 Q530.279 317.721 528.335 318.786 L528.335 314.85 Q530.673 313.948 532.872 313.508 Q535.071 313.045 537.154 313.045 Q542.779 313.045 545.557 315.962 Q548.335 318.878 548.335 324.804 Z\" fill=\"#000000\" fill-rule=\"evenodd\" fill-opacity=\"1\" /><path clip-path=\"url(#clip710)\" d=\"M572.131 317.651 Q571.413 317.235 570.557 317.05 Q569.724 316.841 568.705 316.841 Q565.094 316.841 563.149 319.202 Q561.228 321.54 561.228 325.938 L561.228 339.596 L556.946 339.596 L556.946 313.67 L561.228 313.67 L561.228 317.698 Q562.571 315.337 564.724 314.202 Q566.876 313.045 569.955 313.045 Q570.395 313.045 570.927 313.114 Q571.46 313.161 572.108 313.276 L572.131 317.651 Z\" fill=\"#000000\" fill-rule=\"evenodd\" fill-opacity=\"1\" /><polyline clip-path=\"url(#clip710)\" style=\"stroke:#c271d2; stroke-linecap:round; stroke-linejoin:round; stroke-width:4; stroke-opacity:1; fill:none\" points=\"288.711,374.156 432.714,374.156 \"/>\n",
       "<path clip-path=\"url(#clip710)\" d=\"M475.627 369.445 L475.627 355.417 L479.886 355.417 L479.886 391.436 L475.627 391.436 L475.627 387.547 Q474.284 389.862 472.224 390.996 Q470.187 392.107 467.317 392.107 Q462.618 392.107 459.655 388.357 Q456.715 384.607 456.715 378.496 Q456.715 372.385 459.655 368.635 Q462.618 364.885 467.317 364.885 Q470.187 364.885 472.224 366.019 Q474.284 367.13 475.627 369.445 M461.113 378.496 Q461.113 383.195 463.034 385.88 Q464.979 388.542 468.358 388.542 Q471.738 388.542 473.682 385.88 Q475.627 383.195 475.627 378.496 Q475.627 373.797 473.682 371.135 Q471.738 368.45 468.358 368.45 Q464.979 368.45 463.034 371.135 Q461.113 373.797 461.113 378.496 Z\" fill=\"#000000\" fill-rule=\"evenodd\" fill-opacity=\"1\" /><path clip-path=\"url(#clip710)\" d=\"M510.835 377.408 L510.835 379.491 L491.252 379.491 Q491.529 383.889 493.891 386.204 Q496.275 388.496 500.511 388.496 Q502.965 388.496 505.256 387.894 Q507.571 387.292 509.84 386.089 L509.84 390.116 Q507.548 391.088 505.141 391.598 Q502.733 392.107 500.256 392.107 Q494.053 392.107 490.418 388.496 Q486.807 384.885 486.807 378.727 Q486.807 372.362 490.233 368.635 Q493.682 364.885 499.516 364.885 Q504.747 364.885 507.779 368.265 Q510.835 371.621 510.835 377.408 M506.576 376.158 Q506.529 372.663 504.608 370.579 Q502.71 368.496 499.562 368.496 Q495.997 368.496 493.844 370.51 Q491.715 372.524 491.391 376.181 L506.576 376.158 Z\" fill=\"#000000\" fill-rule=\"evenodd\" fill-opacity=\"1\" /><path clip-path=\"url(#clip710)\" d=\"M532.849 369.491 Q532.131 369.075 531.275 368.89 Q530.441 368.681 529.423 368.681 Q525.812 368.681 523.867 371.042 Q521.946 373.38 521.946 377.778 L521.946 391.436 L517.664 391.436 L517.664 365.51 L521.946 365.51 L521.946 369.538 Q523.289 367.177 525.441 366.042 Q527.594 364.885 530.673 364.885 Q531.113 364.885 531.645 364.954 Q532.177 365.001 532.826 365.116 L532.849 369.491 Z\" fill=\"#000000\" fill-rule=\"evenodd\" fill-opacity=\"1\" /><path clip-path=\"url(#clip710)\" d=\"M534.839 365.51 L539.099 365.51 L544.423 385.741 L549.724 365.51 L554.747 365.51 L560.071 385.741 L565.372 365.51 L569.631 365.51 L562.849 391.436 L557.825 391.436 L552.247 370.186 L546.645 391.436 L541.622 391.436 L534.839 365.51 Z\" fill=\"#000000\" fill-rule=\"evenodd\" fill-opacity=\"1\" /><path clip-path=\"url(#clip710)\" d=\"M594.7 378.496 Q594.7 373.797 592.756 371.135 Q590.835 368.45 587.455 368.45 Q584.075 368.45 582.131 371.135 Q580.21 373.797 580.21 378.496 Q580.21 383.195 582.131 385.88 Q584.075 388.542 587.455 388.542 Q590.835 388.542 592.756 385.88 Q594.7 383.195 594.7 378.496 M580.21 369.445 Q581.552 367.13 583.589 366.019 Q585.649 364.885 588.497 364.885 Q593.219 364.885 596.159 368.635 Q599.122 372.385 599.122 378.496 Q599.122 384.607 596.159 388.357 Q593.219 392.107 588.497 392.107 Q585.649 392.107 583.589 390.996 Q581.552 389.862 580.21 387.547 L580.21 391.436 L575.927 391.436 L575.927 355.417 L580.21 355.417 L580.21 369.445 Z\" fill=\"#000000\" fill-rule=\"evenodd\" fill-opacity=\"1\" /><path clip-path=\"url(#clip710)\" d=\"M617.964 378.403 Q612.802 378.403 610.811 379.584 Q608.821 380.764 608.821 383.612 Q608.821 385.88 610.302 387.223 Q611.807 388.542 614.376 388.542 Q617.918 388.542 620.047 386.042 Q622.2 383.519 622.2 379.352 L622.2 378.403 L617.964 378.403 M626.459 376.644 L626.459 391.436 L622.2 391.436 L622.2 387.501 Q620.742 389.862 618.566 390.996 Q616.39 392.107 613.242 392.107 Q609.26 392.107 606.899 389.885 Q604.561 387.639 604.561 383.889 Q604.561 379.514 607.478 377.292 Q610.418 375.07 616.228 375.07 L622.2 375.07 L622.2 374.653 Q622.2 371.714 620.256 370.116 Q618.334 368.496 614.839 368.496 Q612.617 368.496 610.51 369.028 Q608.404 369.561 606.459 370.626 L606.459 366.69 Q608.797 365.788 610.996 365.348 Q613.196 364.885 615.279 364.885 Q620.904 364.885 623.682 367.802 Q626.459 370.718 626.459 376.644 Z\" fill=\"#000000\" fill-rule=\"evenodd\" fill-opacity=\"1\" /><path clip-path=\"url(#clip710)\" d=\"M650.255 369.491 Q649.538 369.075 648.681 368.89 Q647.848 368.681 646.83 368.681 Q643.218 368.681 641.274 371.042 Q639.353 373.38 639.353 377.778 L639.353 391.436 L635.07 391.436 L635.07 365.51 L639.353 365.51 L639.353 369.538 Q640.695 367.177 642.848 366.042 Q645.001 364.885 648.08 364.885 Q648.519 364.885 649.052 364.954 Q649.584 365.001 650.232 365.116 L650.255 369.491 Z\" fill=\"#000000\" fill-rule=\"evenodd\" fill-opacity=\"1\" /></svg>\n"
      ]
     },
     "execution_count": 39,
     "metadata": {},
     "output_type": "execute_result"
    }
   ],
   "source": [
    "using Plots #showing initial data and the initial status of the horizon finder\n",
    "plot((initX[4:L-3]), state_array[4:L-3,1:4], xaxis=\"r\",title=\"Initial Data\", labels=[\"m\" \"beta\" \"wbar\" \"derwbar\"],xlim=[0,1])"
   ]
  },
  {
   "cell_type": "code",
   "execution_count": 212,
   "id": "15bbf245",
   "metadata": {},
   "outputs": [],
   "source": [
    "function compactify(r)\n",
    "    return r/(1+r)\n",
    "end\n",
    "function uncompactify(x)\n",
    "    return x/(1-x)\n",
    "end;"
   ]
  },
  {
   "cell_type": "markdown",
   "id": "9b444ece",
   "metadata": {
    "papermill": {
     "duration": 0.009161,
     "end_time": "2023-03-28T18:06:25.373170",
     "exception": false,
     "start_time": "2023-03-28T18:06:25.364009",
     "status": "completed"
    },
    "tags": []
   },
   "source": [
    "# Defining the initial state array for the evolution m β Ψ and Ψ,x"
   ]
  },
  {
   "cell_type": "code",
   "execution_count": 213,
   "id": "9902ffab",
   "metadata": {
    "execution": {
     "iopub.execute_input": "2023-03-28T19:06:25.389000Z",
     "iopub.status.busy": "2023-03-28T19:06:25.388000Z",
     "iopub.status.idle": "2023-03-28T19:06:32.710000Z",
     "shell.execute_reply": "2023-03-28T19:06:32.710000Z"
    },
    "papermill": {
     "duration": 7.335269,
     "end_time": "2023-03-28T18:06:32.715990",
     "exception": false,
     "start_time": "2023-03-28T18:06:25.380721",
     "status": "completed"
    },
    "tags": []
   },
   "outputs": [],
   "source": [
    "using CSV, Tables\n",
    "#CSV.write(dir*\"/res$res/time_step0.csv\", Tables.table(state_array), writeheader=false)\n",
    "\n",
    "global files=[\"m\", \"beta\", \"xi\", \"derxi\", \"derderxi\"]\n",
    "\n",
    "derderxi=Der_arrayLOP(state_array,4,initX) .* (initX .- 1) .^ 2\n",
    "print_muninn(files, 0, [state_array[:,1:4] derderxi],res,\"w\", initX)"
   ]
  },
  {
   "cell_type": "code",
   "execution_count": 214,
   "id": "fff1426a",
   "metadata": {
    "execution": {
     "iopub.execute_input": "2023-03-28T19:06:33.154000Z",
     "iopub.status.busy": "2023-03-28T19:06:32.734000Z",
     "iopub.status.idle": "2023-03-28T19:06:33.884000Z",
     "shell.execute_reply": "2023-03-28T19:06:33.884000Z"
    },
    "papermill": {
     "duration": 1.164178,
     "end_time": "2023-03-28T18:06:33.889802",
     "exception": false,
     "start_time": "2023-03-28T18:06:32.725624",
     "status": "completed"
    },
    "tags": []
   },
   "outputs": [],
   "source": [
    "time=0.0\n",
    "criticality=0.0\n",
    "explode=0.0\n",
    "evol_stats = [criticality A sigma r0 time explode run]\n",
    "global monitor_ratio = zeros(L);\n",
    "#CSV.write(dir*\"/parameters.csv\", Tables.table(evol_stats), writeheader=true, header=[\"criticality\", \"A\", \"sigma\", \"r0\", \"time\", \"explode\", \"run\"])"
   ]
  },
  {
   "cell_type": "code",
   "execution_count": 215,
   "id": "9e9abd7d",
   "metadata": {},
   "outputs": [
    {
     "name": "stdout",
     "output_type": "stream",
     "text": [
      "0.4005004691532729\n"
     ]
    }
   ],
   "source": [
    "ginit=speed(initX,state_array[:,1],state_array[:,2])\n",
    "println(update_dt(initX,state_array[:,1],state_array[:,2],dx,ginit)/dt)"
   ]
  },
  {
   "cell_type": "code",
   "execution_count": 216,
   "id": "4e0df300",
   "metadata": {},
   "outputs": [
    {
     "data": {
      "text/plain": [
       "4"
      ]
     },
     "execution_count": 216,
     "metadata": {},
     "output_type": "execute_result"
    }
   ],
   "source": [
    "using Base.Threads\n",
    "Threads.nthreads()"
   ]
  },
  {
   "cell_type": "code",
   "execution_count": 217,
   "id": "b0219015",
   "metadata": {},
   "outputs": [
    {
     "data": {
      "text/plain": [
       "0.0063390598082592835"
      ]
     },
     "execution_count": 217,
     "metadata": {},
     "output_type": "execute_result"
    }
   ],
   "source": [
    "monitor_ratio[5:L-4] = 2 .* state_array[5:L-4,1] ./ initX[5:L-4] .* (1 .- initX[5:L-4]);\n",
    "maximum(monitor_ratio)"
   ]
  },
  {
   "cell_type": "code",
   "execution_count": 218,
   "id": "27a5bccd",
   "metadata": {},
   "outputs": [
    {
     "data": {
      "text/plain": [
       "0.00025"
      ]
     },
     "execution_count": 218,
     "metadata": {},
     "output_type": "execute_result"
    }
   ],
   "source": [
    "dt=0.002/2^(m-1)"
   ]
  },
  {
   "cell_type": "markdown",
   "id": "42e2c73d",
   "metadata": {
    "papermill": {
     "duration": 0.007626,
     "end_time": "2023-03-28T18:06:33.908346",
     "exception": false,
     "start_time": "2023-03-28T18:06:33.900720",
     "status": "completed"
    },
    "tags": []
   },
   "source": [
    " ## Time evolution"
   ]
  },
  {
   "cell_type": "markdown",
   "id": "7da47594",
   "metadata": {
    "papermill": {
     "duration": 0.007471,
     "end_time": "2023-03-28T18:06:33.923805",
     "exception": false,
     "start_time": "2023-03-28T18:06:33.916334",
     "status": "completed"
    },
    "tags": []
   },
   "source": [
    "fixed grid"
   ]
  },
  {
   "cell_type": "code",
   "execution_count": 219,
   "id": "fcb7ae3f",
   "metadata": {
    "execution": {
     "iopub.execute_input": "2023-03-28T19:06:33.940000Z",
     "iopub.status.busy": "2023-03-28T19:06:33.940000Z",
     "iopub.status.idle": "2023-03-28T21:02:19.379000Z",
     "shell.execute_reply": "2023-03-28T21:02:19.378000Z"
    },
    "papermill": {
     "duration": 6945.452732,
     "end_time": "2023-03-28T20:02:19.384591",
     "exception": false,
     "start_time": "2023-03-28T18:06:33.931859",
     "status": "completed"
    },
    "tags": []
   },
   "outputs": [
    {
     "name": "stdout",
     "output_type": "stream",
     "text": [
      "\n",
      "\n",
      "iteration 500 dt is 0.00025, t=0.12500000000000008 speed is 0.4993751953069176, dx/dt=2.5\n",
      "\n",
      "\n",
      "iteration 1000 dt is 0.00025, t=0.25000000000000017 speed is 0.49937519467850966, dx/dt=2.5\n",
      "\n",
      "\n",
      "iteration 1500 dt is 0.00025, t=0.3749999999999864 speed is 0.4993751882240948, dx/dt=2.5\n",
      "\n",
      "\n",
      "iteration 2000 dt is 0.00025, t=0.49999999999997263 speed is 0.49937519422230053, dx/dt=2.5\n",
      "\n",
      "\n",
      "iteration 2500 dt is 0.00025, t=0.6249999999999589 speed is 0.49937518099760775, dx/dt=2.5\n",
      "\n",
      "\n",
      "iteration 3000 dt is 0.00025, t=0.7499999999999452 speed is 0.4993751930198124, dx/dt=2.5\n",
      "\n",
      "\n",
      "iteration 3500 dt is 0.00025, t=0.8749999999999314 speed is 0.4993751937186907, dx/dt=2.5\n",
      "\n",
      "\n",
      "iteration 4000 dt is 0.00025, t=0.9999999999999176 speed is 0.49937519496775684, dx/dt=2.5\n",
      "\n",
      "\n",
      "iteration 4500 dt is 0.00025, t=1.1249999999999594 speed is 0.4993751953074305, dx/dt=2.5\n",
      "\n",
      "\n",
      "iteration 5000 dt is 0.00025, t=1.250000000000001 speed is 0.4993751953124922, dx/dt=2.5\n",
      "\n",
      "\n",
      "iteration 5500 dt is 0.00025, t=1.3750000000000429 speed is 0.4993751953125, dx/dt=2.5\n",
      "\n",
      "\n",
      "iteration 6000 dt is 0.00025, t=1.5000000000000846 speed is 0.4993751953125001, dx/dt=2.5\n"
     ]
    }
   ],
   "source": [
    "finaltime=1.5\n",
    "evol_stats, T_interp = timeevolution(state_array,finaltime,run);\n",
    "#CSV.write(dir*\"/timearray$res.csv\", Tables.table(T_interp), writeheader=false);\n",
    "#CSV.write(dir*\"/parameters.csv\", Tables.table(evol_stats), writeheader=false);"
   ]
  },
  {
   "cell_type": "code",
   "execution_count": null,
   "id": "ef57be5a",
   "metadata": {},
   "outputs": [],
   "source": []
  },
  {
   "cell_type": "code",
   "execution_count": null,
   "id": "fa24f38b",
   "metadata": {},
   "outputs": [],
   "source": []
  },
  {
   "cell_type": "code",
   "execution_count": null,
   "id": "26374227",
   "metadata": {},
   "outputs": [],
   "source": []
  },
  {
   "cell_type": "code",
   "execution_count": null,
   "id": "b45c67a8",
   "metadata": {},
   "outputs": [],
   "source": []
  }
 ],
 "metadata": {
  "@webio": {
   "lastCommId": null,
   "lastKernelId": null
  },
  "kernelspec": {
   "display_name": "Julia 1.8.0",
   "language": "julia",
   "name": "julia-1.8"
  },
  "language_info": {
   "file_extension": ".jl",
   "mimetype": "application/julia",
   "name": "julia",
   "version": "1.8.0"
  },
  "papermill": {
   "default_parameters": {},
   "duration": 7025.507115,
   "end_time": "2023-03-28T20:03:06.430756",
   "environment_variables": {},
   "exception": null,
   "input_path": "Evolution_ScalarField.ipynb",
   "output_path": "Evolution_ScalarField.ipynb",
   "parameters": {
    "A": 0.001,
    "m": 3
   },
   "start_time": "2023-03-28T18:06:00.923641",
   "version": "2.4.0"
  }
 },
 "nbformat": 4,
 "nbformat_minor": 5
}
